{
  "nbformat": 4,
  "nbformat_minor": 0,
  "metadata": {
    "colab": {
      "provenance": []
    },
    "kernelspec": {
      "name": "python3",
      "display_name": "Python 3"
    },
    "language_info": {
      "name": "python"
    }
  },
  "cells": [
    {
      "cell_type": "code",
      "execution_count": 2,
      "metadata": {
        "colab": {
          "base_uri": "https://localhost:8080/"
        },
        "collapsed": true,
        "id": "9SoTexefT_Bi",
        "outputId": "22e1b50e-7e5d-4aa3-8a56-9f2424cb03e9"
      },
      "outputs": [
        {
          "output_type": "stream",
          "name": "stdout",
          "text": [
            "Collecting gymnasium\n",
            "  Downloading gymnasium-1.0.0-py3-none-any.whl.metadata (9.5 kB)\n",
            "Requirement already satisfied: numpy>=1.21.0 in /usr/local/lib/python3.10/dist-packages (from gymnasium) (1.26.4)\n",
            "Requirement already satisfied: cloudpickle>=1.2.0 in /usr/local/lib/python3.10/dist-packages (from gymnasium) (3.1.0)\n",
            "Requirement already satisfied: typing-extensions>=4.3.0 in /usr/local/lib/python3.10/dist-packages (from gymnasium) (4.12.2)\n",
            "Collecting farama-notifications>=0.0.1 (from gymnasium)\n",
            "  Downloading Farama_Notifications-0.0.4-py3-none-any.whl.metadata (558 bytes)\n",
            "Downloading gymnasium-1.0.0-py3-none-any.whl (958 kB)\n",
            "\u001b[2K   \u001b[90m━━━━━━━━━━━━━━━━━━━━━━━━━━━━━━━━━━━━━━━━\u001b[0m \u001b[32m958.1/958.1 kB\u001b[0m \u001b[31m10.0 MB/s\u001b[0m eta \u001b[36m0:00:00\u001b[0m\n",
            "\u001b[?25hDownloading Farama_Notifications-0.0.4-py3-none-any.whl (2.5 kB)\n",
            "Installing collected packages: farama-notifications, gymnasium\n",
            "Successfully installed farama-notifications-0.0.4 gymnasium-1.0.0\n",
            "\u001b[31mERROR: Could not find a version that satisfies the requirement gynmasium[accept-rom-license,atari] (from versions: none)\u001b[0m\u001b[31m\n",
            "\u001b[0m\u001b[31mERROR: No matching distribution found for gynmasium[accept-rom-license,atari]\u001b[0m\u001b[31m\n",
            "Reading package lists... Done\n",
            "Building dependency tree... Done\n",
            "Reading state information... Done\n",
            "The following additional packages will be installed:\n",
            "  swig4.0\n",
            "Suggested packages:\n",
            "  swig-doc swig-examples swig4.0-examples swig4.0-doc\n",
            "The following NEW packages will be installed:\n",
            "  swig swig4.0\n",
            "0 upgraded, 2 newly installed, 0 to remove and 49 not upgraded.\n",
            "Need to get 1,116 kB of archives.\n",
            "After this operation, 5,542 kB of additional disk space will be used.\n",
            "Get:1 http://archive.ubuntu.com/ubuntu jammy/universe amd64 swig4.0 amd64 4.0.2-1ubuntu1 [1,110 kB]\n",
            "Get:2 http://archive.ubuntu.com/ubuntu jammy/universe amd64 swig all 4.0.2-1ubuntu1 [5,632 B]\n",
            "Fetched 1,116 kB in 1s (1,174 kB/s)\n",
            "Selecting previously unselected package swig4.0.\n",
            "(Reading database ... 123633 files and directories currently installed.)\n",
            "Preparing to unpack .../swig4.0_4.0.2-1ubuntu1_amd64.deb ...\n",
            "Unpacking swig4.0 (4.0.2-1ubuntu1) ...\n",
            "Selecting previously unselected package swig.\n",
            "Preparing to unpack .../swig_4.0.2-1ubuntu1_all.deb ...\n",
            "Unpacking swig (4.0.2-1ubuntu1) ...\n",
            "Setting up swig4.0 (4.0.2-1ubuntu1) ...\n",
            "Setting up swig (4.0.2-1ubuntu1) ...\n",
            "Processing triggers for man-db (2.10.2-1) ...\n",
            "Requirement already satisfied: gymnasium[box2d] in /usr/local/lib/python3.10/dist-packages (1.0.0)\n",
            "Requirement already satisfied: numpy>=1.21.0 in /usr/local/lib/python3.10/dist-packages (from gymnasium[box2d]) (1.26.4)\n",
            "Requirement already satisfied: cloudpickle>=1.2.0 in /usr/local/lib/python3.10/dist-packages (from gymnasium[box2d]) (3.1.0)\n",
            "Requirement already satisfied: typing-extensions>=4.3.0 in /usr/local/lib/python3.10/dist-packages (from gymnasium[box2d]) (4.12.2)\n",
            "Requirement already satisfied: farama-notifications>=0.0.1 in /usr/local/lib/python3.10/dist-packages (from gymnasium[box2d]) (0.0.4)\n",
            "Collecting box2d-py==2.3.5 (from gymnasium[box2d])\n",
            "  Downloading box2d-py-2.3.5.tar.gz (374 kB)\n",
            "\u001b[2K     \u001b[90m━━━━━━━━━━━━━━━━━━━━━━━━━━━━━━━━━━━━━━━━\u001b[0m \u001b[32m374.4/374.4 kB\u001b[0m \u001b[31m5.9 MB/s\u001b[0m eta \u001b[36m0:00:00\u001b[0m\n",
            "\u001b[?25h  Preparing metadata (setup.py) ... \u001b[?25l\u001b[?25hdone\n",
            "Requirement already satisfied: pygame>=2.1.3 in /usr/local/lib/python3.10/dist-packages (from gymnasium[box2d]) (2.6.1)\n",
            "Collecting swig==4.* (from gymnasium[box2d])\n",
            "  Downloading swig-4.3.0-py2.py3-none-manylinux_2_5_x86_64.manylinux1_x86_64.whl.metadata (3.5 kB)\n",
            "Downloading swig-4.3.0-py2.py3-none-manylinux_2_5_x86_64.manylinux1_x86_64.whl (1.9 MB)\n",
            "\u001b[2K   \u001b[90m━━━━━━━━━━━━━━━━━━━━━━━━━━━━━━━━━━━━━━━━\u001b[0m \u001b[32m1.9/1.9 MB\u001b[0m \u001b[31m38.3 MB/s\u001b[0m eta \u001b[36m0:00:00\u001b[0m\n",
            "\u001b[?25hBuilding wheels for collected packages: box2d-py\n",
            "  Building wheel for box2d-py (setup.py) ... \u001b[?25l\u001b[?25hdone\n",
            "  Created wheel for box2d-py: filename=box2d_py-2.3.5-cp310-cp310-linux_x86_64.whl size=2349114 sha256=bea148a961a3b7ca062caa87a2d27caed4cdedce27282973a11bc4b8f97cc4ec\n",
            "  Stored in directory: /root/.cache/pip/wheels/db/8f/6a/eaaadf056fba10a98d986f6dce954e6201ba3126926fc5ad9e\n",
            "Successfully built box2d-py\n",
            "Installing collected packages: swig, box2d-py\n",
            "Successfully installed box2d-py-2.3.5 swig-4.3.0\n"
          ]
        }
      ],
      "source": [
        "!pip install gymnasium\n",
        "!pip install \"gynmasium[atari,accept-rom-license]\"\n",
        "!apt-get install -y swig\n",
        "!pip install gymnasium[box2d]"
      ]
    },
    {
      "cell_type": "code",
      "source": [
        "import os\n",
        "import random\n",
        "import numpy as np\n",
        "import torch\n",
        "import torch.nn as nn\n",
        "import torch.optim as optim\n",
        "import torch.nn.functional as F\n",
        "import torch.autograd as autograd\n",
        "from torch.autograd import Variable\n",
        "from collections import deque, namedtuple"
      ],
      "metadata": {
        "id": "Szn4ZtjgVlg5"
      },
      "execution_count": 3,
      "outputs": []
    },
    {
      "cell_type": "code",
      "source": [
        "class Network(nn.Module):\n",
        "  def __init__(self,state_size,action_size,seed=42):\n",
        "    super(Network,self).__init__()\n",
        "    self.seed=torch.manual_seed(seed)\n",
        "    self.fc1=nn.Linear(state_size,64)\n",
        "    self.fc2=nn.Linear(64,64)\n",
        "    self.fc3=nn.Linear(64,action_size)\n",
        "\n",
        "  def forward(self,state):\n",
        "    x=self.fc1(state)\n",
        "    x=F.relu(x)\n",
        "    x=self.fc2(x)\n",
        "    x=F.relu(x)\n",
        "    return self.fc3(x)\n",
        "\"\"\"\n",
        "    A simple fully connected neural network for predicting actions from state inputs.\n",
        "\n",
        "    __init__(self, state_size, action_size, seed=42):\n",
        "        Initializes network layers and sets a random seed for reproducibility.\n",
        "\n",
        "        - state_size: Size of the input state (number of state features).\n",
        "        - action_size: Number of possible actions (output size).\n",
        "        - seed: Random seed for weight initialization.\n",
        "\n",
        "        The network consists of three fully connected layers (fc1, fc2, and fc3).\n",
        "        fc1 and fc2 use 64 units, and fc3 produces outputs based on the action size.\n",
        "\n",
        "    forward(self, state):\n",
        "        Defines the forward pass where the input state is passed through the layers.\n",
        "\n",
        "        - The state is passed through fc1 and fc2 with ReLU activations.\n",
        "        - The output from fc2 is passed through fc3 to predict actions.\n",
        "    \"\"\""
      ],
      "metadata": {
        "colab": {
          "base_uri": "https://localhost:8080/",
          "height": 209
        },
        "collapsed": true,
        "id": "h05FZTS1VxjK",
        "outputId": "38049ac9-75d4-479c-a0b6-0edf7edc7fe5"
      },
      "execution_count": 4,
      "outputs": [
        {
          "output_type": "execute_result",
          "data": {
            "text/plain": [
              "'\\n    A simple fully connected neural network for predicting actions from state inputs.\\n\\n    __init__(self, state_size, action_size, seed=42):\\n        Initializes network layers and sets a random seed for reproducibility.\\n        \\n        - state_size: Size of the input state (number of state features).\\n        - action_size: Number of possible actions (output size).\\n        - seed: Random seed for weight initialization.\\n        \\n        The network consists of three fully connected layers (fc1, fc2, and fc3).\\n        fc1 and fc2 use 64 units, and fc3 produces outputs based on the action size.\\n\\n    forward(self, state):\\n        Defines the forward pass where the input state is passed through the layers.\\n        \\n        - The state is passed through fc1 and fc2 with ReLU activations.\\n        - The output from fc2 is passed through fc3 to predict actions.\\n    '"
            ],
            "application/vnd.google.colaboratory.intrinsic+json": {
              "type": "string"
            }
          },
          "metadata": {},
          "execution_count": 4
        }
      ]
    },
    {
      "cell_type": "markdown",
      "source": [
        "#Lunar-Lander-V3\n",
        "\n",
        "**Description**\n",
        "This environment is a classic rocket trajectory optimization problem. According to Pontryagin’s maximum principle, it is optimal to fire the engine at full throttle or turn it off. This is the reason why this environment has discrete actions: engine on or off.\n",
        "\n",
        "There are two environment versions: discrete or continuous. The landing pad is always at coordinates (0,0). The coordinates are the first two numbers in the state vector. Landing outside of the landing pad is possible. Fuel is infinite, so an agent can learn to fly and then land on its first attempt.\n",
        "\n",
        "To see a heuristic landing, run:\n",
        "\n",
        "**Action Space**\n",
        "\n",
        "There are four discrete actions available:\n",
        "\n",
        "0: do nothing\n",
        "\n",
        "1: fire left orientation engine\n",
        "\n",
        "2: fire main engine\n",
        "\n",
        "3: fire right orientation engine\n",
        "\n",
        "\n",
        "**Observation Space**\n",
        "\n",
        "The state is an 8-dimensional vector: the coordinates of the lander in x & y, its linear velocities in x & y, its angle, its angular velocity, and two booleans that represent whether each leg is in contact with the ground or not.\n",
        "\n",
        "**Rewards**\n",
        "\n",
        "After every step a reward is granted. The total reward of an episode is the sum of the rewards for all the steps within that episode.\n",
        "\n",
        "For each step, the reward:\n",
        "\n",
        "is increased/decreased the closer/further the lander is to the landing pad.\n",
        "\n",
        "is increased/decreased the slower/faster the lander is moving.\n",
        "\n",
        "is decreased the more the lander is tilted (angle not horizontal).\n",
        "\n",
        "is increased by 10 points for each leg that is in contact with the ground.\n",
        "\n",
        "is decreased by 0.03 points each frame a side engine is firing.\n",
        "\n",
        "is decreased by 0.3 points each frame the main engine is firing.\n",
        "\n",
        "The episode receive an additional reward of -100 or +100 points for crashing or landing safely respectively.\n",
        "\n",
        "An episode is considered a solution if it scores at least 200 points."
      ],
      "metadata": {
        "id": "IToC9aTcZW8r"
      }
    },
    {
      "cell_type": "code",
      "source": [
        "import gymnasium as gym\n",
        "env=gym.make(\"LunarLander-v3\")\n",
        "state_shape=env.observation_space.shape\n",
        "state_size=env.observation_space.shape[0]\n",
        "number_action=env.action_space.n\n",
        "print('State shape:',state_shape)\n",
        "print(\"state_size:\",state_size)\n",
        "print(\"Number of action\",number_action)"
      ],
      "metadata": {
        "colab": {
          "base_uri": "https://localhost:8080/"
        },
        "collapsed": true,
        "id": "wo5wAvumXnEm",
        "outputId": "23437961-ed06-4edc-cb59-ea0d2b8869cf"
      },
      "execution_count": 5,
      "outputs": [
        {
          "output_type": "stream",
          "name": "stdout",
          "text": [
            "State shape: (8,)\n",
            "state_size: 8\n",
            "Number of action 4\n"
          ]
        },
        {
          "output_type": "stream",
          "name": "stderr",
          "text": [
            "/usr/local/lib/python3.10/dist-packages/pygame/pkgdata.py:25: DeprecationWarning: pkg_resources is deprecated as an API. See https://setuptools.pypa.io/en/latest/pkg_resources.html\n",
            "  from pkg_resources import resource_stream, resource_exists\n",
            "/usr/local/lib/python3.10/dist-packages/pkg_resources/__init__.py:3154: DeprecationWarning: Deprecated call to `pkg_resources.declare_namespace('google')`.\n",
            "Implementing implicit namespace packages (as specified in PEP 420) is preferred to `pkg_resources.declare_namespace`. See https://setuptools.pypa.io/en/latest/references/keywords.html#keyword-namespace-packages\n",
            "  declare_namespace(pkg)\n",
            "/usr/local/lib/python3.10/dist-packages/pkg_resources/__init__.py:3154: DeprecationWarning: Deprecated call to `pkg_resources.declare_namespace('google.cloud')`.\n",
            "Implementing implicit namespace packages (as specified in PEP 420) is preferred to `pkg_resources.declare_namespace`. See https://setuptools.pypa.io/en/latest/references/keywords.html#keyword-namespace-packages\n",
            "  declare_namespace(pkg)\n",
            "/usr/local/lib/python3.10/dist-packages/pkg_resources/__init__.py:3154: DeprecationWarning: Deprecated call to `pkg_resources.declare_namespace('sphinxcontrib')`.\n",
            "Implementing implicit namespace packages (as specified in PEP 420) is preferred to `pkg_resources.declare_namespace`. See https://setuptools.pypa.io/en/latest/references/keywords.html#keyword-namespace-packages\n",
            "  declare_namespace(pkg)\n"
          ]
        }
      ]
    },
    {
      "cell_type": "markdown",
      "source": [
        "#Hyperparameter Explanation\n",
        "\n",
        "1. **Learning Rate (learning_rate=5e-4)**\n",
        "This determines how much the model's weights update in response to the computed gradient.\n",
        "A value of 5e-4 (0.0005) is common and usually suitable for DRL tasks, ensuring steady but effective updates.\n",
        "2. **Minibatch Size (minibatch_size=100)**\n",
        "A batch size of 100 is reasonable for the LunarLander environment. Larger batches (e.g., 256) may smooth gradients but require more memory and computational resources.\n",
        "Adjust based on hardware limitations or experiment with tuning.\n",
        "3. **Discount Factor (discount_factor=0.99)**\n",
        "The discount factor determines how much importance the agent gives to future rewards versus immediate rewards.\n",
        "With 0.99, the agent looks ahead multiple steps but still slightly prefers more immediate rewards.\n",
        "4.**Replay Buffer Size (replay_buffer_size=int(1e5))**\n",
        "This size controls how many experiences (state, action, reward, next state) the agent stores for training.\n",
        "1e5 (100,000) is standard for medium-sized environments like LunarLander. It provides a good balance between memory requirements and diversity of experience.\n",
        "5.**Interpolation Parameter (interpolation_parameter=1e-3)**\n",
        "\n",
        "Likely used for soft updates of the target Q-network in DQN. A small value such as 1e-3 (0.001) ensures a smooth update to prevent instability in the target Q-values.\n"
      ],
      "metadata": {
        "id": "mGxK13fNeLbq"
      }
    },
    {
      "cell_type": "code",
      "source": [
        "learning_rate=5e-4\n",
        "minibatch_size=100 #no. of observation taken in one batch training\n",
        "discount_factor=0.99 #so the model looks in future also\n",
        "replay_buffer_size=int(1e5) #memory of AI.Number of state,action,etc it will remember.\n",
        "interpolation_parameter=1e-3"
      ],
      "metadata": {
        "id": "qfaxYvlUcgOO"
      },
      "execution_count": 6,
      "outputs": []
    },
    {
      "cell_type": "code",
      "source": [
        "class ReplayMemory(object):\n",
        "\n",
        "  def __init__(self, capacity):\n",
        "    self.device = torch.device(\"cuda:0\" if torch.cuda.is_available() else \"cpu\")\n",
        "    self.capacity = capacity\n",
        "    self.memory = []\n",
        "\n",
        "  def push(self, event):\n",
        "    self.memory.append(event)\n",
        "    if len(self.memory) > self.capacity:\n",
        "      del self.memory[0]\n",
        "\n",
        "  def sample(self, batch_size):\n",
        "    experiences = random.sample(self.memory, k = batch_size)\n",
        "    states = torch.from_numpy(np.vstack([e[0] for e in experiences if e is not None])).float().to(self.device)\n",
        "    actions = torch.from_numpy(np.vstack([e[1] for e in experiences if e is not None])).long().to(self.device)\n",
        "    rewards = torch.from_numpy(np.vstack([e[2] for e in experiences if e is not None])).float().to(self.device)\n",
        "    next_states = torch.from_numpy(np.vstack([e[3] for e in experiences if e is not None])).float().to(self.device)\n",
        "    dones = torch.from_numpy(np.vstack([e[4] for e in experiences if e is not None]).astype(np.uint8)).float().to(self.device)\n",
        "    return states, next_states, actions, rewards, dones\n",
        "\"\"\"\n",
        "    A class to implement a replay memory buffer for experience replay in reinforcement learning.\n",
        "\n",
        "    __init__(self, capacity):\n",
        "        Initialises the replay memory with a specific capacity.\n",
        "\n",
        "        - capacity: Maximum number of experiences to store in memory.\n",
        "        - The device is set to GPU if available, otherwise, it defaults to CPU.\n",
        "        - An empty list of `memories` is initialised to store the experiences.\n",
        "\n",
        "    push(self, event):\n",
        "        Adds an experience to the memory and ensures the memory size stays within the capacity limit.\n",
        "\n",
        "        - event: A tuple representing an experience (state, action, reward, next_state, done).\n",
        "        - If the memory exceeds the specified capacity, the oldest experience is removed.\n",
        "\n",
        "    sample(self, batch_size):\n",
        "        Samples a random batch of experiences from the memory.\n",
        "\n",
        "        - batch_size: The number of experiences in the sample.\n",
        "        - The method returns batches of states, actions, rewards, next_states, and done flags,\n",
        "          converting them to PyTorch tensors and transferring them to the appropriate device (GPU or CPU).\n",
        "        - The data is extracted from the memory and stacked into numpy arrays before being converted\n",
        "          into PyTorch tensors (using `torch.from_numpy`).\n",
        "        - `states`, `next_states`, and `rewards` are floating-point tensors, `actions` are long-type (integer),\n",
        "          and `dones` is a floating-point tensor representing whether the episode has ended (1.0 for done, 0.0 for not done).\n",
        "    \"\"\""
      ],
      "metadata": {
        "colab": {
          "base_uri": "https://localhost:8080/",
          "height": 244
        },
        "collapsed": true,
        "id": "x0UCm9PHdRfm",
        "outputId": "6f1ae042-7db3-4cc4-bf32-a7886771a5b9"
      },
      "execution_count": 7,
      "outputs": [
        {
          "output_type": "execute_result",
          "data": {
            "text/plain": [
              "'\\n    A class to implement a replay memory buffer for experience replay in reinforcement learning.\\n\\n    __init__(self, capacity):\\n        Initialises the replay memory with a specific capacity.\\n        \\n        - capacity: Maximum number of experiences to store in memory.\\n        - The device is set to GPU if available, otherwise, it defaults to CPU.\\n        - An empty list of `memories` is initialised to store the experiences.\\n\\n    push(self, event):\\n        Adds an experience to the memory and ensures the memory size stays within the capacity limit.\\n        \\n        - event: A tuple representing an experience (state, action, reward, next_state, done).\\n        - If the memory exceeds the specified capacity, the oldest experience is removed.\\n\\n    sample(self, batch_size):\\n        Samples a random batch of experiences from the memory.\\n        \\n        - batch_size: The number of experiences in the sample.\\n        - The method returns batches of states, actions, rewards, next_states, and done flags, \\n          converting them to PyTorch tensors and transferring them to the appropriate device (GPU or CPU).\\n        - The data is extracted from the memory and stacked into numpy arrays before being converted \\n          into PyTorch tensors (using `torch.from_numpy`).\\n        - `states`, `next_states`, and `rewards` are floating-point tensors, `actions` are long-type (integer),\\n          and `dones` is a floating-point tensor representing whether the episode has ended (1.0 for done, 0.0 for not done).\\n    '"
            ],
            "application/vnd.google.colaboratory.intrinsic+json": {
              "type": "string"
            }
          },
          "metadata": {},
          "execution_count": 7
        }
      ]
    },
    {
      "cell_type": "code",
      "source": [
        "class Agent():\n",
        "\n",
        "  def __init__(self, state_size, action_size):\n",
        "    \"\"\"\n",
        "        Initializes the agent with a Q-learning network, optimizer, and replay memory.\n",
        "\n",
        "        - state_size: The size of the state space.\n",
        "        - action_size: The size of the action space.\n",
        "        - local_qnetwork: The local Q-network for estimating the Q-values.\n",
        "        - target_qnetwork: The target Q-network for stable updates.\n",
        "        - optimizer: The Adam optimizer used to optimize the Q-network's parameters.\n",
        "        - memory: A replay memory to store experiences.\n",
        "        - t_step: A counter for controlling the frequency of learning.\n",
        "        \"\"\"\n",
        "    self.device = torch.device(\"cuda:0\" if torch.cuda.is_available() else \"cpu\")\n",
        "    self.state_size = state_size\n",
        "    self.action_size = action_size\n",
        "    self.local_qnetwork = Network(state_size, action_size).to(self.device)\n",
        "    self.target_qnetwork = Network(state_size, action_size).to(self.device)\n",
        "    self.optimizer = optim.Adam(self.local_qnetwork.parameters(), lr = learning_rate)\n",
        "    self.memory = ReplayMemory(replay_buffer_size)\n",
        "    self.t_step = 0\n",
        "\n",
        "  def step(self, state, action, reward, next_state, done):\n",
        "    \"\"\"\n",
        "        Stores an experience in the memory and learns every 4 steps.\n",
        "\n",
        "        - state: The current state of the environment.\n",
        "        - action: The action taken by the agent.\n",
        "        - reward: The reward received after performing the action.\n",
        "        - next_state: The next state after performing the action.\n",
        "        - done: A boolean indicating if the episode has ended.\n",
        "        \"\"\"\n",
        "\n",
        "    self.memory.push((state, action, reward, next_state, done))\n",
        "    self.t_step = (self.t_step + 1) % 4\n",
        "    if self.t_step == 0:\n",
        "      if len(self.memory.memory) > minibatch_size:\n",
        "        experiences = self.memory.sample(100)\n",
        "        self.learn(experiences, discount_factor)\n",
        "\n",
        "  def act(self, state, epsilon = 0.):\n",
        "    \"\"\"\n",
        "        Returns the action selected by the agent, either using epsilon-greedy strategy or randomly.\n",
        "\n",
        "        - state: The current state of the environment.\n",
        "        - epsilon: The epsilon value for controlling exploration vs exploitation.\n",
        "\n",
        "        If random.random() > epsilon, selects the best action (greedy).\n",
        "        Otherwise, selects a random action (exploration).\n",
        "        \"\"\"\n",
        "\n",
        "    state = torch.from_numpy(state).float().unsqueeze(0).to(self.device)\n",
        "    self.local_qnetwork.eval()\n",
        "    with torch.no_grad():\n",
        "      action_values = self.local_qnetwork(state)\n",
        "    self.local_qnetwork.train()\n",
        "    if random.random() > epsilon:\n",
        "      return np.argmax(action_values.cpu().data.numpy())\n",
        "    else:\n",
        "      return random.choice(np.arange(self.action_size))\n",
        "\n",
        "  def learn(self, experiences, discount_factor):\n",
        "    \"\"\"\n",
        "        Updates the local Q-network using the experiences and the Bellman equation.\n",
        "\n",
        "        - experiences: A batch of experiences sampled from the memory.\n",
        "        - discount_factor: The discount factor (gamma) used in the Bellman equation.\n",
        "        \"\"\"\n",
        "    states, next_states, actions, rewards, dones = experiences\n",
        "    next_q_targets = self.target_qnetwork(next_states).detach().max(1)[0].unsqueeze(1)\n",
        "    q_targets = rewards + discount_factor * next_q_targets * (1 - dones)\n",
        "    q_expected = self.local_qnetwork(states).gather(1, actions)\n",
        "    loss = F.mse_loss(q_expected, q_targets)\n",
        "    self.optimizer.zero_grad()\n",
        "    loss.backward()\n",
        "    self.optimizer.step()\n",
        "    self.soft_update(self.local_qnetwork, self.target_qnetwork, interpolation_parameter)\n",
        "\n",
        "  def soft_update(self, local_model, target_model, interpolation_parameter):\n",
        "    \"\"\"\n",
        "        Performs a soft update of the target network's parameters based on the local network's parameters.\n",
        "\n",
        "        - local_model: The current Q-network.\n",
        "        - target_model: The target Q-network.\n",
        "        - interpolation_parameter: The interpolation factor for the soft update.\n",
        "        \"\"\"\n",
        "    for target_param, local_param in zip(target_model.parameters(), local_model.parameters()):\n",
        "      target_param.data.copy_(interpolation_parameter * local_param.data + (1.0 - interpolation_parameter) * target_param.data)"
      ],
      "metadata": {
        "id": "R8FA3GELignX"
      },
      "execution_count": 8,
      "outputs": []
    },
    {
      "cell_type": "code",
      "source": [
        "agent=Agent(state_size,number_action)"
      ],
      "metadata": {
        "id": "NyXXasCRwtgK"
      },
      "execution_count": 9,
      "outputs": []
    },
    {
      "cell_type": "code",
      "source": [
        "number_episodes=2000\n",
        "maximum_number_timesteps_per_episode=1000\n",
        "epsilon_starting_value=1.0\n",
        "epsilon_ending_value=0.01\n",
        "epsilon_decay_value=0.995\n",
        "epsilon=epsilon_starting_value\n",
        "scores_on_100_episodes=deque(maxlen=100)\n",
        "for episode in range(1, number_episodes + 1):\n",
        "  state, _ = env.reset()\n",
        "  score = 0\n",
        "  for t in range(maximum_number_timesteps_per_episode):\n",
        "    action = agent.act(state, epsilon)\n",
        "    next_state, reward, done, _, _ = env.step(action)\n",
        "    agent.step(state, action, reward, next_state, done)\n",
        "    state = next_state\n",
        "    score += reward\n",
        "    if done:\n",
        "      break\n",
        "  scores_on_100_episodes.append(score)\n",
        "  epsilon = max(epsilon_ending_value, epsilon_decay_value * epsilon)\n",
        "  print('\\rEpisode {}\\tAverage Score: {:.2f}'.format(episode, np.mean(scores_on_100_episodes)), end = \"\")\n",
        "  if episode % 100 == 0:\n",
        "    print('\\rEpisode {}\\tAverage Score: {:.2f}'.format(episode, np.mean(scores_on_100_episodes)))\n",
        "  if np.mean(scores_on_100_episodes) >= 200.0:\n",
        "    print('\\nEnvironment solved in {:d} episodes!\\tAverage Score: {:.2f}'.format(episode - 100, np.mean(scores_on_100_episodes)))\n",
        "    torch.save(agent.local_qnetwork.state_dict(), 'checkpoint.pth')\n",
        "    break"
      ],
      "metadata": {
        "colab": {
          "base_uri": "https://localhost:8080/"
        },
        "id": "sql8_kQew2D1",
        "outputId": "fb67360c-15ec-45d7-f4b2-0c152c0d3b5e"
      },
      "execution_count": 10,
      "outputs": [
        {
          "output_type": "stream",
          "name": "stdout",
          "text": [
            "Episode 100\tAverage Score: -158.10\n",
            "Episode 200\tAverage Score: -86.17\n",
            "Episode 300\tAverage Score: -20.13\n",
            "Episode 400\tAverage Score: 17.03\n",
            "Episode 500\tAverage Score: 79.41\n",
            "Episode 600\tAverage Score: 164.79\n",
            "Episode 680\tAverage Score: 200.07\n",
            "Environment solved in 580 episodes!\tAverage Score: 200.07\n"
          ]
        }
      ]
    },
    {
      "cell_type": "code",
      "source": [
        "import glob\n",
        "import io\n",
        "import base64\n",
        "import imageio\n",
        "from IPython.display import HTML, display\n",
        "from gym.wrappers.monitoring.video_recorder import VideoRecorder\n",
        "\n",
        "def show_video_of_model(agent, env_name):\n",
        "    env = gym.make(env_name, render_mode='rgb_array')\n",
        "    state, _ = env.reset()\n",
        "    done = False\n",
        "    frames = []\n",
        "    while not done:\n",
        "        frame = env.render()\n",
        "        frames.append(frame)\n",
        "        action = agent.act(state)\n",
        "        state, reward, done, _, _ = env.step(action.item())\n",
        "    env.close()\n",
        "    imageio.mimsave('video.mp4', frames, fps=30)\n",
        "\n",
        "show_video_of_model(agent, 'LunarLander-v3')\n",
        "\n",
        "def show_video():\n",
        "    mp4list = glob.glob('*.mp4')\n",
        "    if len(mp4list) > 0:\n",
        "        mp4 = mp4list[0]\n",
        "        video = io.open(mp4, 'r+b').read()\n",
        "        encoded = base64.b64encode(video)\n",
        "        display(HTML(data='''<video alt=\"test\" autoplay\n",
        "                loop controls style=\"height: 400px;\">\n",
        "                <source src=\"data:video/mp4;base64,{0}\" type=\"video/mp4\" />\n",
        "             </video>'''.format(encoded.decode('ascii'))))\n",
        "    else:\n",
        "        print(\"Could not find video\")\n",
        "\n",
        "show_video()"
      ],
      "metadata": {
        "colab": {
          "base_uri": "https://localhost:8080/",
          "height": 459
        },
        "id": "JR-ZHZiH5X7x",
        "outputId": "41ea52bd-dc65-4063-fc9d-efe677554fb3"
      },
      "execution_count": 13,
      "outputs": [
        {
          "output_type": "stream",
          "name": "stderr",
          "text": [
            "WARNING:imageio_ffmpeg:IMAGEIO FFMPEG_WRITER WARNING: input image is not divisible by macro_block_size=16, resizing from (600, 400) to (608, 400) to ensure video compatibility with most codecs and players. To prevent resizing, make your input image divisible by the macro_block_size or set the macro_block_size to 1 (risking incompatibility).\n"
          ]
        },
        {
          "output_type": "display_data",
          "data": {
            "text/plain": [
              "<IPython.core.display.HTML object>"
            ],
            "text/html": [
              "<video alt=\"test\" autoplay\n",
              "                loop controls style=\"height: 400px;\">\n",
              "                <source src=\"data:video/mp4;base64,AAAAIGZ0eXBpc29tAAACAGlzb21pc28yYXZjMW1wNDEAAAAIZnJlZQAAwi9tZGF0AAACrgYF//+q3EXpvebZSLeWLNgg2SPu73gyNjQgLSBjb3JlIDE1OSByMjk5MSAxNzcxYjU1IC0gSC4yNjQvTVBFRy00IEFWQyBjb2RlYyAtIENvcHlsZWZ0IDIwMDMtMjAxOSAtIGh0dHA6Ly93d3cudmlkZW9sYW4ub3JnL3gyNjQuaHRtbCAtIG9wdGlvbnM6IGNhYmFjPTEgcmVmPTMgZGVibG9jaz0xOjA6MCBhbmFseXNlPTB4MzoweDExMyBtZT1oZXggc3VibWU9NyBwc3k9MSBwc3lfcmQ9MS4wMDowLjAwIG1peGVkX3JlZj0xIG1lX3JhbmdlPTE2IGNocm9tYV9tZT0xIHRyZWxsaXM9MSA4eDhkY3Q9MSBjcW09MCBkZWFkem9uZT0yMSwxMSBmYXN0X3Bza2lwPTEgY2hyb21hX3FwX29mZnNldD0tMiB0aHJlYWRzPTMgbG9va2FoZWFkX3RocmVhZHM9MSBzbGljZWRfdGhyZWFkcz0wIG5yPTAgZGVjaW1hdGU9MSBpbnRlcmxhY2VkPTAgYmx1cmF5X2NvbXBhdD0wIGNvbnN0cmFpbmVkX2ludHJhPTAgYmZyYW1lcz0zIGJfcHlyYW1pZD0yIGJfYWRhcHQ9MSBiX2JpYXM9MCBkaXJlY3Q9MSB3ZWlnaHRiPTEgb3Blbl9nb3A9MCB3ZWlnaHRwPTIga2V5aW50PTI1MCBrZXlpbnRfbWluPTI1IHNjZW5lY3V0PTQwIGludHJhX3JlZnJlc2g9MCByY19sb29rYWhlYWQ9NDAgcmM9Y3JmIG1idHJlZT0xIGNyZj0yMy4wIHFjb21wPTAuNjAgcXBtaW49MCBxcG1heD02OSBxcHN0ZXA9NCBpcF9yYXRpbz0xLjQwIGFxPTE6MS4wMACAAAAHmWWIhAA3//728P4FNlYEUJcRzeidMx+/Fbi6NDe92RHgU0XUCpAFttT62hViyr7rxseOoEMvx50JzjPojAAcoReU3ZQQ2LnDdc12tcpsw6wg91s6YzadthKy81x/2UN9wC1aD9ezYVdoHKZnptNVrIMvUd3oHOF5lJJMhyhaDD16hWbvG7+u9kE+pU1f5GLJP5qDgvObTP1eDbWVkZU7OkbIcR6S7lik0BJfXdGpaKtr1gXxy80AL3D9xwZs9ht7+4bbuoEOm96q1AJQkxQkBYnX0k4kxSbAAjy9PrFcYqQMerYEgAAAAwAFo7lUBzyR9OlGycVLf6DXyPtF/GQjCA1EGwNy0az37Ydoq+oBWWQvT4Z3VPe1qEnTtVTPIAADvA2ofsegcGsG+H4KoPwdZAR/FMK8AAIMNOGZAVlTqrwL2Q0ZJmTzKEJFlGP384+C2iWdYh9JwmMUpSJd7KBT7BmIj4HgsuYhHN3fnQJ0UkNyOOLLNXSOHGbgkbvCAnHm94Yk9M0goqJ92A88xWiRCWNEna3xMJlIzSVEBRadGJhhdiO1GEcyzFbhcysbOAJcSHbu5Xgrn9ZIkyM9TjddUschJ6ax9Sqh4hRkSSmqRkQgZHU3EeQ9ozMfU8NFtF6zoJ+RP43ue++LShm4A12Zrsu9VsLo8ujpkmp+QJTdvxThLV8+aqy8I1UNcnDKXkSv04Nf92zgT3oNFN8jIQUaqQbn1gIVR9gXidBhGejKkKRrhL1DcPiUEKIaxhUmsSVwOJn9afEtSwmC1rJ13yfY8R7BGJebpI0i9tyCPEpAEmK8qsg82oEHXqbdpMbimXSYpzUoBvWiLififRpViloh6DQ5R+GQhqXrDi9/k2uRTDX9as7RX+0KEKYRi2a0MjFoBDUyeiEok3OUtnWJm2qI/9vPGpzH9DJG+9JNleI4FE82JSXm5wzI2h875U2RslWnE8x/+37QTMYmNK7tlG2ciO/4nl6FHcVI5FnJLTTfsXhnl2JarS9kIBUMYR77iOqsh2TPxTAlmfonDIb9tI5QC2jR4JBwTrHAF40e5dYYr9fELyXBy6POL7Rka2qCtbrwcq4E8NyVTMIloCYP6yKyAQ7xFuS8NFY01td/ua2HztBM4zju0qPjUGvdBGgO0VIorim1fwa6XvaRb3s/DB0TxS2VRTnfeKtbsztYC/FGYZDhmrEEf8oy+uhPXexQpHJAX+RlEHognDHAjMcOM5p5NGLwwpVl6CrshxxiVhPPMJZ+zt5YOG8OoL5hcF8+VplMo3i47immoAsJv/huc1nyzHQRmZj0h+oU916XcMLbuNBxBB5YR+MA4nFXxHn8Br7p5HX0nlbI4p4u64tLwdDz8VCeP3PGHUtAuZdrkOFDiSDN0+9dbgQTGog/DmvIO9p+uXebNXRt08/aNKOLyVahJ7yWhAjX9YHeM1YyPb3TyEgK/m7ZPZ9nTt1SbhuXnpjOey/zloxXV2bZTVXvnzQ+LlrAbXC+Tpy4u0ZO0ZwE6v2SNTP4f2HbrrpyGWBIi+f0Kec+TGDr4BnBZ5JU9/t6D39ftuS0uufVayz2yLpSukTrAUt/wZYewV2Fo8l79/YWMcU56IaKp+7vo1n4gEOJnKWYbKC4S/+Vwjf7uzo9zb7LQsLjd3Kr2ZY//v/y3VrjChQEdmZNPzaSOTGY7la6M+YS7UWARBmyEPxBCWejg5sXfm1sP0kmUW1MZWOMaRLYqF6D7CnDC/P1fWgy11mJsxDGmRnxVsB8qFwPSNXbTsAAjbiVY7tQRPH8GihFnUV6gV8V2esb2ZtSUdluEIgPX5Zo1RqKubcuU1/V329qGrKBWxhQFKK5/YqgYXRKE/pwdirbUUFFfRzXa+uxQvV3MMAtx6fBU1+71jPJIDAbkGKq1BvKsZXmMkMoM1ZJy1DqrbumWaeKnC33oHQeYkLZvh+Tn1obtjsmcxoeWAAAHh6wzR3HmP//+u+jNv2zweb6hPQ02vLPVR6ti6///fuqsbImq/axB3CG/dtQ8rykx63js//1+w2tuozIxYsddZngiKAw15jGYsRS0LVRT2xmOHEBB4wDa58PBOZywKCwGdDQEAup+1tCDK/mQaWeuokrCK5rINxNO4fFsk1gWeCXngt+wFaOhWSnxliLswaoVjLOMbbfnvrO6+p5Pdf8x8eXstCeBRmfMlFQX+JnVfAfCBp+2Dp9C9txN76KeHeOYVBKJfZQVSm1a3UwPkEPYeG500clplJqGIGTgU0B1Ei2ZW9z68K2/BVxTmyBsjkSTcGAqIZmQOYQdmDuyuMVjEe1bhlkLLH/gMNExgA/cYAIpSH+Ph4bHtUI4FLYuIAAALgZ4z+plWzkEET+d1XtkOuBh5JOzOLbn6XCIPY6xvz7LoQC8y27HqHLlm0qvIYV8nXb//239N6oTXi759SvUumZDGmRkB9oBJMZ5FbPFWZRJ173MqlAs/IrCg6K5ND+CKqP13eOGWRX3wQzBGEKE9mw6TZL2o/0G5m/U8kY32/MNNXdGwWgGYDqMGRO/4j/WWMbto8RskdiOuAuXbkwFAy26of+5+YiAGKLtNHIysPHKIObngAO/gNUAlsAAAGcQZokbEN//qePfOI/TIptPDkSQwAqFIa99V19TQi9gIVh220d536cJz9wA5l2h//l8/zIW8/GQH4rz3DWmVg70wCdfkWxpmK9BRCprU2m4AsISXGlfLcBS++dEn32I9XCM3bTI5Hw5aJWf0uei62gHAaVvdxBjPbsmAHlxVU2uwadfmIWuOsKILEGX8AAAgi2t97FsdtGilP1bcTAnbjsVwICw29PwQ8pqwvwbDcp6pRuuo9Ss+LF8ahJQLCPbaELKOkGKMW7bUrBHhA+zgVotG6tfv/4TgE829yyHIkLSKl5h0O2Y8hrcvtspbeWmPKGgQkYfm7tkQppIqAjtYPwkyOm0c1wfEMW74H0AKUjIuWUWvLWCxEiS/YUOcTV9HPQiAtU/HkgmWlW8MvBXBhm/A4rFZxO9iL9rMem2dJwEJMWRwLVNAR7jV7GPNy5LzZQzn+y6T+bYbJD54rylyO8nBT9bRcPnGR7n+sLHUBGyjjeAjeLThu+VjcZeGgfVri/H9tvb4rWtg8PC1nE3Ll9jxWfKTNb2rvKJkK9oAAAAHNBnkJ4hX8L6qkb/6MdcbBwAr96HpTd/db+oHip0InysC58BRaMWGGBAzhM1fp/FxV9V2+9uTI5+9gVw47WvHKVpfSHWBSym9bi1SNNVbLSuOHpDyAFT6RqwiqSMEHrrfTFXT8Y0nEfVBHlviKMsvvBUjGfAAAAQAGeYXRCfw3ds0js3p5wDAAExqEvMnj0V7ki9svbh2U0R3ATS3W1hsnPC4a9ckABfNMMyGBjckczEQkp0R6uAbMAAABMAZ5jakJ/DFAukMPRgASvyBsH4+DrsOCg62LcuV6W/n+Znu1j8gYral0cDsmtjuBOPgXlCDYAEgdgmp10BMdDINEUp/bMZrqYpuAccQAAAQJBmmZJqEFomUwU8N/+p4qRlRsHgAWnH45h+4fTGmr49n35sm5nXLz/y35jWX5wz55aouxDV3jvCoMnd7dmEfWhF9ENIWpo3UxvDWTIC3kVS9QVwNWSECj2pDucHMba52KXVUTgFa/Wh8ECknbDCC/UBxv7f1PXbh030h5H82yOEGRfFBLy/j2ZEkQdapyihCHnTf/FRFvKc7/Gm7KgUT3C4iuPdYieAvsQDPxl8JExmM/38qne/clfNF1BtgzI5uvpfsHZSfpNTBSyIk6Xs4porpuuVFkLxa07yrx2YONX8zWpVUAsX1nvzojShBCk5Pipao+K55nHRCZEYX0qwP28RMEAAABOAZ6FakJ/DFGrD4O4RRLs3lW1EEQ/m3tAB5hdmGmCZO1USwnoMkbrjhpraypx2+ULTACidxhEcQAm7rkXxh7xqzn4MUFoi1eX6NqfJnZ9AAABQUGaiUnhClJlMCG//qe258pgBZG06rjkBCO8tTv6Xe0zU6D5iFIARAHC2sRd21ry/WEbst500zVi8PIBmoutlHoeLJ2rYfIv5fIvws3qwUVz5IT5w4smRSHyfWC/tID+43bSSbhiq5gZ4A0lWcOyZBSIYHbpkzDLse2yFnYcbnbDo9UzGnX7Pb+7Y3XmYTT2bTdQ3sCxFFC76beIYimwq0AbA+ef2HojGU+VRcom45ejiKY/MXFSMzxmL0WQ/xsC31MREcgRstfpr5e6POKjYAW6y+Qk9DszbfDQphqjrw0EUPr+7fy5bp4AHwFBjytgUlQSikUjQ6EgDjyz+urwLUwdy6Bc5FfG4mq1wlwfIL7+msVK33qFmjI37FCbmS4xQtPpt6n0E9e8AKzNFQxYyW3q4fwRldHlZdYCjunvj8rmQQAAAIpBnqdFNEwr/xFctng4A4Y/vL8Vvf8BXVIl7J5VW65GoyGV9cYIuhicgRzAXGKxMGXNJUjAs5T6dUrM9t3JSTn81ETYl2CRhpw4vqK6+aYfDBq6jyxuM1qfzf3A+iITc69wq7VTOfuZ740hKtTvkeWEbBzSwbcAAGwTWuXz9TtGrEPGtw271FqLUVsAAACCAZ7IakJ/FDvvQBA8vcW4ZcAdY3aYMPd483d/XHaGgVncia95HTxa0RWFj1jApKGmtPJQq7b6AMs2QhVt5fdRnV+/X7ZNquOgJXDwY+UY+OCPpJTa4h3QoBryL/4YjZVI4JPjm3wA0CG4NgAaU1RaVeThj81koOCLlnb69ob7HMHvmAAAAX1Bms1JqEFomUwIb//+p7dfOV74YZdgAH9yMsrOZtAdy7/TsRLg+0dOO+rBn2vdR5lxJXnjZ1WAcYdle5u8x/vHE2c+ms04DRa9MtzDlxeL6gBWcjD508t3GVYscATJ/Imvp9pW4dTgFQmX+9IAAAMAABZ+TKGGv0tQM8cdomk7mBo5YvR3exGwM3Y/lXK5u10X/2aYmfbMiji6u1TLQrwoFnOtqFzcjwzf9pUkNgPxEd8C9GaCyEiBz6uf/fjbgB9D1vKdzGgY+vRspPdJf5PigdaUw63M/am+3v7mAyHKN9njggexY3WNKqiN2Sm8I4Yzby+PzpTnSl6w5EbkXIyXkuCe9nDqFK/3l+if2YimqHD5JKXGtIaLSO2On4loiYV8V72oHeh4pPER7mXS8uC6X5y3IHyZNzUXCwgO6NT7NsDvrm6AyvHs82VDfLEf3jgX0QoDKSpGOR2v7d2+XkQtK2PUckinXiIeWd5DcMmUpSce38F7j9o3jZjwrYEAAADGQZ7rRREsK/8UoKiAJ2LJMMneMapo5BoC+M6OLdrBrFn/CRnbX5BxLLOhINIMUyVzqvE+rUeIvUzv41/miQ4uWTSblqgJsJzk9q9pR4OT0J3l3cH2KfqnpNyKbN2PHA2vAUc7afFhntcY94Qrd703ceisiac61VaI1J2+INLpkBw8Q5BqqINJH45IRH9Dyd37/Ad2+Bob2fTKoM71M7zj+CEngFQUsceGKnHoH5jAtCbLiNfwEkITJTaXkKPGds8CnLlAvMLAAAAAoQGfCnRCfxeGIb/PEAEH+jm7XX7gWTQspbDPsCPFtu5JBHBtPwyxABGcO8Lxg12Rc+SUnyk3VgposFi6BDbNi5X3ZOrGdHHMC+vxdt9cpS9aAU3gnuXHtUYieD6B6JJXoBJzSZKhpNHTEXH8bbbDt+Nozsz7+Oa+42OE2Wh2Iwt8eLFM/GPvCVlgUgCXqyoCSg6AF0BQNZIlgvV0PbiayCbgAAAAqQGfDGpCfxdRoEeD+EATr9rs531n3WtlKc6YKzHLjIjajiyKml6P7cgBpUt479uDiGi2l4dBlze/ip3+5AZLWHsGDMDV7LIv0W9u2yCG+GV+BXH+1ePq2nZIcyHEW0iRXyvnvXCkRHadwQfzw0fGpX2/mMWedR/BuqXfF0NypyGyW9bXUYbUpzEBv3UjrBPziWrC99r7mIYFR70qBlJmRdcUJKocveUS70kAAAEiQZsRSahBbJlMCG///qegsLLK3c2t3wwqLrXYgbheLrXkP82Wx/vY3VI34AuepgmWVA0VX01IYl2GFBBkwwCc3roo1J/k70zAx8n/sW3sLRf0mPQfhBaFaSNdMQGF1GKECSMOLMJK+xI+JTUbJSaiIyAx+N0b06d3YuPZ5yGxESzbcsGQ85GeCNxYKZV5tN/qvWgjkTuRFWH/1BMZdhmdw888Uq1l1QckWRBuBrCyLvR9iRT7pidCOsSAIRUzKmygUAIts9DOJNXiNnzlv3NW5USH1wn6OCu8utwBeScJnKAHkXzLO7WxRbPf8AvGYWbJnANr/4a/jNZPobBryb6shigaksNSV9z4Imlm3iMfGW5a98Tet1I/45WsNpEAkgH5ScEAAADFQZ8vRRUsK/8Sc/dlU+QjbtwAj3F5Ey+IYf/nBLThV9SeZoCRGWvYGK8JuLnpvuS6zCdhI5vNHWF1OXePR/S4uSmevt/FJE9xGlzHIKrbbpb+yTabDtlBYpcHtee5V7H151HySVuzK5qzpY4rJnUw06cmLM24UGZkGXMCrBcLmQ0J2zI3ZCZUbc6dCByhpWRiFCpRbj7pSiRiPhw4KNVVzgv4hRaEgBMufEMDQbj8Oyel8rO4yUNRocAhYdUjwrCyfQTbpF8AAACxAZ9OdEJ/F4ZxWAAK3k1Kuq/ZGdQcF8yVkgVsKLzI/LEFMIH5vdN2KyJWbxxYbRqvpAXu0OFZype+fvj1ZbnEEEDIj3UKPfUXXl6bw7lroUP2iCbSpOzOM9xw6MLnZ1shIwZZQT9ZaXAjixkI/Y2QLox6ZJyX8fHpnOREkedW7q4b0deXlwFlYplOI4Grw3MA9O1A3Re6wXFBvfKT4s2jKUpPc5EmuEomyUWk74cLbKZuAAAAqQGfUGpCfxvaOAHQKvf6qvAnLtsEfutJMEM5nzaqICwenaJINoEzv3XK2Db9zOuQbpFnpPeJ08Vm3pPTB/GnmxBuwIg2TjsDTlt7tvm7KohY/P3ADbSq1B7wUP4Hvk4tjqwAfquAbNGFF/dcE3sRSbo359mMKHMrYC1B1Gqv11HLKygHLytyx8ukkt6kQ4G5p8EE9GZYVcI+JRZNvKu1151PZge2fRBQZ64AAAD3QZtVSahBbJlMCG///qeEAimm9o5vKHoL26zUeR4dKEDzptEAkf4FjrTQDtjwaUITiBukO50hDRIXFF4cGZM3+kTbAg06TqSKJOX7t1QMvW4bOKMkWIZJJWeioxLP0UQZHKrcL258t+gpduN4RkkCqz7cg04WrEdCa5gypii8jssYr49JtGOh5ktzLrmTr0NLWk40YqQcXre3oM7iwn7efwdyNhj4Rt4IiLxjO2A+GK7qFeLNWIBbfro4jX+zpFlk2qXiFdYXY6A5bTV/lE9USdWk5/cq2G5YSrYBYjwIQR7qkTnty78ZUKFyJKpwS7p7Ml/KTxQJOQAAAMdBn3NFFSwr/wF1jRTaGNFZuVstwp50AQB44IiyyZf4zpNfXHqf2FqADzQa5Xy95/m1oX1N+j+TJGuMqSqaVoayve6ew/TVfMdVaK0KIhEWxubCoaS0eshNqtDNHWDeQQUotZP9ay9bmgouAl0QSpBleQx3OtSG1xP2flA/JiBJTSswZTcdHZDSRlkzHmuNADND9oRXABh3Zau1Xwpg2heMVBtTthcc4s0wxnD9Y1yQGVwdIryoDHz2hms4Bs3CrVwyrPxKFjQQAAAAuwGfknRCfwHYYAOCQyk1K1CGMmHB0kAJHZyPTs2h9X224wcYfXrhuRD8y65+q3wy9AF42l9ZE9MDZtH7S11YMzRZ1HPMYdW2m126NtenlcHgwuHhkYLoP8YGabmpCb/CiUhouMsXAbdnXHrFxRTRdup/U29bi0Agd8owZSRTSJdcG0O51aDptn7jSBav5OTBPpzcVOUVbut06YsN+Ws5FPAD9NGXz3jiEyufEMSI1JpGJbji9u8XUX4+TsAAAACkAZ+UakJ/AdkGkJPD7x+DCU4ASfGC8BrM14EwgK//mjSEtGdAYYTsmqQSgurF+W5Z1qgMzAWjamkhGzRA2CaheWEtKh26rLtzG9Qy63qP7Pn1cNUdZkbbo5tumsKPYpYPvssHJpPnyp77YkhuB3pwOammcuqHSm9OQkMMIhrN6D7i8OeD2a//ETTPfhltRaR9MNwFr4oYzfq4nP/L7YBzNuPdGfEAAAEkQZuZSahBbJlMCG///qeEAKvjODInZAFZ+nlaJPyQhby7V4ltmSkuYCdpaC5Vx3/zjsxLhD+g8da/J0Kvy12CoIJ9TlTq9tkVX6j9G6jzB/k0X0t8UUrNR/eqe4H1B+A7ae2V3O5GDTID03l3A9rKGvqvR5Y/w5oGYCIIJ1FkLayNjsjx4VzOX5UGwTl/fsXCXp1ZqE+X9SSQIXKb3nsOEcbFGdsJ26dl5GnhVrLaSc2IJW0GY7AOtKLsE/nUVxBFbu4g9Q/Z4jbLSzMFosyThRl3ZhDThr7+VKWY9goks/YrfgUj0FXshR3skJE31bQh8XSv9SXPUYhFjZSgfh5VwAcEq9uPzdJ9k6iWixtZC2DMVEWtnsWNZFjR6Mn48Y+A1kDugAAAAJtBn7dFFSwr/wCKikVP8Wx+Xx12DeRAC21yVWsGI+K+5+b+VVgqlXif/9J7zThJlYu1y7Og5bwf9mC9+4efTAcU5TKcIUYrHLkLeIEUS4wWCfUKzO2TYukyaJZNqceatafd77dpHxeSG9c/RkRE1XE+GOztXfZ/dgvMRbNDGs1gDEp6jinyW6AvQsDnc9xZvU5ylWN38n/tD7+L2wAAAHoBn9Z0Qn8AtUVg6+Bre8eRMHuWoVMuPsYBJ/nOajx5FG+hhU6OsZxDLgiidMfkZdwgA4OpSlzmWSBM55oMu9FFseD2A9sTdbt0/qupxwK0VkB49W+qQjR+ak3okI3ozgyWFzha+f5ms8YDzw1lnDeTp5uEiePQYkuRFwAAAJIBn9hqQn8AtcasW8ALUNxwtx5nvoNiw8Fd8OTEORJTmcttc1M3Y0Fig4lNsvAlukk390X8VRKtSqCQWEVGecJG5fAC3YDebpkLTyZeYHV2xhCjkIySAnazgOdn4ys/Wb1n/sra/ntihoTaFxDg2l6XAC1XUtOoV6jUw//Ay/KpVlA9poNZm1oMKcn/kaDmucAUEAAAAVRBm91JqEFsmUwIb//+p4QAum/vhBZvHACavd9FEm8p8YAyaZ8Zr64swHHRM17C/Za6LIz45FxOv8Vcie4M9WFZPm53SAxcgG9SMmuR5aEJwIFWCgjN81smJom4n0eLlQjNnuqGLMzNq6x2WrecPK7T9cItTh1/xzLpxKQtaiNOWXsmL5fPPnio0CQxLDeiTrmvgTeNKldgP/OAH92FI3mMUNGzoSGIpOQpWevrsHnYELV7Mp0egnjBlbU/d1lUEH7ZUcjobKebcMpje76d/O22HDzpmM2wINXjVvHVhx2QnpBUq1yn65VPd96bU14a76VED/exW879fZOpon6nmi/rD91617bg/OC3bda5hrgb8WPpoki+FPAzCu4k5WObO1l94Unjj9eyXLNh7lWwr56FQUnac9pT0ygECvaX+aa0eJVCzA7qiPrO2YS0LoDaF50whREfAAAAzEGf+0UVLCv/AJbsWOUgAjAujsOrb3eU/AbwvysRK/gYLjrVbN8D2jmgk5KociBfae5nJF0X0m75IXgoIe7jewX4HJ1ZCWm93YLjmSkcjIflr6dvbq7MefxFBBQre0BUaJdQ1njsWzOhFQA503fCc8ZH2jlhI8kcTTDWC2z0SrkVXjzqCA3XypzFjianl39ELRV8oazQ/qDFMniAr6fdSS5G/1ZT+MNpT251RHozwGtAnXfGTVAWDjaNBbDcWQg1EOgMje+xgoIC+gatgAAAAK0Bnhp0Qn8AumkfF6yJigP8zgAVqc2h7gFzF2vlW8L4lfkE+MlOwSsmZ9B/cIHrWuMSN6NBVDnml//RMypZQGdabgntQx3gMOpsdCa59Hme00bN5+LTl9YDKdB5SvipDJUBfFxxH+Ya+M6xKem4AnxaWGSOtpJNR3lGxqfu4OgnfiZtdfHQDgBfU//TceA8Zhk3sJ6TE8pfhgTseMnPATgNBJT4DSqvzEiUSDLFJQAAAMkBnhxqQn8AxDwxooARhnror+mbuoeHhNJGZZMoHurdT2nxUUthS6sWUGwiogBetcE1aGDsygLJYPO+fV7KWaJqYIXHrbA3E3x3D/5n3SDlSGiIbGQmTpeiBVvbxnF0brRlHupnYAs56Tk8X2ZsbHkcm9kRcYkKZgFcfsoy3Eg5F4tNCyk7BZQ3vlB1ZuQi0Kw1fi9OvIj4KSSagtn4k4laQcYjTG+qhRrgvyOPueeAXRjsnLpaP5IbaJcX6HvzJFUA6CiTSOIMK+EAAAESQZofSahBbJlMFEw3//6nhADD69+ELxgACdvb89ZGEKMJVNfS3OSAvSPhMXdzJOJx2bteFg6ReoJWPvlZwe4zaRxM0f1K9gCk7AmHyLMyLQaupWvuz1zU6swEymvnMVwNMY6s/tG2hoUyGZc7cRLLe+MZXs3rkUKdKqCl/tvKH8gTGPBxceUSllwJj4mD06il9D6++r8v3+glsG+D1GtkXEbyxDI6vINIUnmSPJE5scEHVYSYBsLMH8nC1O9zh+wowd2gv5Y8zQW2MNk325xLoLhhV7usSVyzK5x7YCdGsB0ElC4NnE2ILOlVZs3r0lIj4ywiEXsFxhax55mw/Rj5eQwvzE1m4G0X0ZS4zx9MAyhA4AAAAL4Bnj5qQn8AzjrwbgiOzoAWHylaQ06H610jZobaApOZQ8wN959qmDtLt9f7HR1NPsoLeDPclaEjvyPzXSpPXleqNVCz34XDEec05v06IcQFGqwc9CMiV9tGUCPXdqqZ9EsZITTWsBVvmUcMs8oItdsPn0DHxDVfn1cXoJmqxGNSQXaVNrHjtpo+T/EzEglXDz/nU0VytIdLFYjcH4lrCoHJLN0MZKtuZ4MpgnkIqzrfK0WPfgJYgDY+bWjHgJuAAAABEkGaI0nhClJlMCG//qeEAMP7Kieqz+bKXcwAC5Pz23A7t4muz7qk59SZBHJ6K6fIkqu7mKSuLd8wxZC6YpXW9giC29NEUeo/Xp6DLkNHfJUTwnqCj2miS6kwCel6lU7dVXGxMuityjz6Lpq/aAG8KNRvuUliZRBNrXfvt3hAEIrSTjXx0qEaj5xu4UykUL8lGW6+mdpN6f+DUkEYfLLjdzvehbp9Xj7NU3NcXTWG7YFPnrg0mAynLEKHuPxrjU0SKUz3Y/EDW3msB/7M209cjc2eK3DkVdAi+PhqXxxKlVb1DHKMRMlpIkIBR4VgW6N6H7Fc6scirAAYKS5lJ5o5AjBCAIGSF9f6fxcgdqiKYZUQG9EAAADCQZ5BRTRMK/8AnzSOn6KIlaUHuMGXjHaACKskPTcBhydmUf5ijYsBCCPlbFm/LsfBZj8DydygsGttky66PT3f13qC/JKaV8lKi9En8K1dCNj6NhgLXIIKPj9J07lDOUiCvJ68iXKkQHzx4oOB9A/NHZsDP3VXUIKNwvDQ0fS6PQEwyjvyHzBTVBQKCGCkv6cOKfGSrV2vrdbRD6j84zLKgs/zYGTdV+GWWjLXOmJcw6JVu3NYvQCoEEGskRHLEKTMBgQAAADVAZ5gdEJ/ANO+4AHSIeDPacDzoG7AO+kDkZFQfuqoe3ALvSUSpU/Y5MYTrUMpFjDRHbc86j53J/XpDCXF2ijB/mZELr0wFcF0+YBk8DNeB5sTjFNFx5Kz09nx8F94KtFotiNtJLZqOyA3MBNCK/E3X5OdsyRdkXgx75d3QYCj+43FLfTFVHmtmOOY0etRO/k8ol93bO7qG4gLwSCSisG6sBFp8U6pkNnn72Hot+DUSIUej/7CFF4VRp0Tp+Z1A4Xnf7qKjARALDONtua4fVv/oEIF+OmBAAAA7QGeYmpCfwBPrVQXFicHS4Aq1PS8PFYiMkz+UZ4Ptxsf9QzNXw8COvXrF/UD6q3oCdXjSWePDteETTf3K142jZuKt13scuTR2G1ryAd/dCFkMLidPZ6PXoX8SYMQKO52XnydiEiDCqG9l91srnCmMOf3HssXOJHOxepnum1t2/N+RHgqKKRkUTbLaP2Vh0aoeMeFu45g+e6PGGri+UHvy+8DDwy+05+Sq+DhjbshIbov7mVEgJwPMYmE/VR1ZDoaCuZC0Ge4zWHvMxFIpTBH6CeQdnzRIoaxbB+7PAtS635uaOMUvr0S5VxYBLAJuAAAASJBmmdJqEFomUwIb//+p4QAS75GwEWVA+gA/gEzqt1dWLO8tEkTljFbDRGIppPZm5veIgdxQpjv9HnpVn67PQroRAR/h1qX16C2J1I4m4JQcwhf5qKXcz4VGEgsUsUogu2oWqdUvf14qJSyYg74fJq8S/ekfZiv3uKpTmPiV1ubDfM9hEUk/ZZZEoyQ7U8G+qyizyrbcQ3k7xXuKFhssOMnxN9r+qWiyL7qyHA+MMRdhnjq1XSI7pfVjX/sAEs7wEfDPnI0rTget2h2FUrMjlvUznaLNpUwuaC0ofM1OmbWmqzNgQDgCBCmJV26SgwPT9crb37Au0sP38ceQvVM8BlthjZX4KoqoO6ow2J7xMNm6gFKUNVZJxvpbAydG+sVZ6wyoQAAAMJBnoVFESwr/wCbBmbbVoiAes0ewdABxuL7LOfh9xXWWOJsdJ7tzmbsHxJ3SDHPtenDmWcijy3XLihvzNE5LBQKttuc/DOIxpLKIFRgfW+W6vdNQFAfDFHzMQu+4QkOgzYQpNDyJhC+qNd/n9FGzw4pxioCaMSi30feMRWl3X7I4GjgLo+dAuAyTN42aBySlx2/3Z6IlMVsxfUd2G2vaqjqfJo/IZSCWuAYqVFZ/8so46svI1/9ENWHhPCOOO6rtGCLKQAAAOcBnqR0Qn8AT5HDmYEtAY7l4ALZxiKGwmVu/0Rmcp/ADuF+k8q2vwtG2IwE/tJP+mPBpXUQlxpHxXfaeDiwUGmZMdF1REb8o5PsEX9uhAn0UVToIDEiSngbOleJtiv5FX9stR/TAKH/vocbr/78Ge1avTfs/eY6MTgllBseJByNffWQX+ERpAA3CMr7u46bhtDoCqqFybpkYM1l7kMyVrQDbWa81qFTV+ulcok0ML2zcnq0sScMRDsvx510I2bD+Oish+ySrIznCajJHLkdnovIgSLnpJtdbOI6Sy/oeuaIMLWFzDBANmEAAAC0AZ6makJ/AB0Hh3syAFgbt4dIIKu5MylfCqzlSSCd0aZ/C/iRCtbzBty3UtI3ZYEcuhOpEDxWkFq9XMUzUx7p5I+WPnZtG0GHI3z1va9zBOefHBmfN6sxPPEHPTSqtr4yeh19390hCKECZ+Ro4gVyAn+P/S70eLgDpN/spMtoAcdDiy4f+iJeBVosPFTc23SDXIVRMvjI8nvdKy65yzOqrslTA+H60Zd7Nud0VPc+0Ed/x/x9AAABeUGaq0moQWyZTAhv//6nhAAbv2VM3zSQAtg99BNdti2rj2YeZgdQvEcTU8R/gVGmwxzkc28cjV1WhLrY95Z77NMLHZ4+Yw7d9IBIbN7t0u8mguyU5DsB/WpHH5aULAJG2Op61WRjQlLM/R3mPALmowcUQSAaRYE3OD2hOwABgkHvci8uG8mJMyl5quCfqfIPrepmwwhGCWVbVMYQ29rYF6sG0moXfllIWq36UV++0GnVCpAbaRktjqyiKJ15hfK0/rxR0qLxcgSQJ3tb0Q+gsc3C6OypeqU1bmUw0WK/e1s7HBp8+cSCf129TNqTvXlI1o2P32j6obuAtvtgXo+wEK5UlTBkOQ/OdgA+7fxeMISf4iIDuzkMWBbwGGnlcckTkQl7n3KfTTv3VAtFqgWGTH/O8ShD4pYHIfAW/CqSv1IDDf5BgC6nn/kZHFOFJefAfDdUB7qRdqBeDT46FkHo6N51xJ85BdAHKQDOp/5Be0O6PI9Xi3dA2BdwAAAA+kGeyUUVLCv/AJsGZNfr/0yT/HY+s7gzdBCzzaACccVr5JPB/F+zwOZutMYzYlwL/MRk0wqfav43Wvm9dVqD31P6ECcy1dBEion2h0jL7AXNIIl/ddvIpQX1TDdr4p67MClf7Z6casvQF35n0WiS+Hys4/90Fkiyd+kqCbp777otJ92rUaeB+Qric31bdl4XFz9GXSlrDnx3zG8CmsX/ga/qV7PFjcNhdpCMsdjyM6ImRVe4P/CsiilaiIaVTY5VUSpooXsxSp+WfrfE7ufTJwHGcRMOq8M+zGHgGaOLax2Q7IlBAPs2LPgYKZzGpxJRs4xp77fS/71aHTAAAADaAZ7odEJ/AB57TcAcwbyUg76s1Ryt+PG3VmrwLJj57wQOhZLYaYDI8SlkwfMbPLcGweLKzjRYbFdX3c+W/ysMNu/cvsFHTOavd6+UrIngV+4bUIO8rIJcdiLNxX57eizuLwoV5pJCF3PxIDxRr6DTjYMYchoGJAs8pXyHm+CAiSt6nYQDQ0Aq5AMfWvq3YxyZZZ9YQtQEUcX42OgfkOtTQli9IJjAgF/z4dgnn80LWEdj4za1QQV5NiHoLrWIXwsmx1wfhwHcnkqZEDtb3nP88J9GYr1jNY+iIeEAAADfAZ7qakJ/ABsHnTwAk2BdJw7m1MADgou7+uF3g9PbGvDpE/yJOUmPYgnJBKmu/8avhQN7RcjtCh9XgiGXDY3yI6DUS1ybi5b6KyN6FJupHVK4I+vNh6zaYQBnFmr4w/w+c5uhSW2Ami6csFmFLS9XfWBlONXj02MOTJoPFRVEUedhuYgfFSEMys1cQ2O3F4eccNqNkDUqzKAnAW9RQJQWeP875yBOv6VbkfiP+FTBZ5A/b7G1zWLbqw5X2XO5JFICapOybUTLlC2qVX70GRBjsXSSjSE9quEd5K2/sEWGfAAAAV5Bmu9JqEFsmUwIb//+p4QAGd9lSe677RvxuH/XZIlebOMz/xXversK1w382ktW0HdNKaE9EiQzqjgmJ9375orVpVBD4ikrVFqtyU13ePBByOD/2okvWJbnxS4CBbsKB1mme1htW5X1fQcTsqeaGjnG22kfBEWpP0t9/rQkW5k9GghBxatujSslSZDyZMm61iUW6cA6VmEvgC4kaJp/6Z/W4QEfTjU6IH1dq3PoU3VwfzCDiCwwj3U8wsqQdGsfsMAGRTLesNF7jwX+lkv8YJy0nWmM7ZPK4x1oPXDrM3WAepZqKr/3Vtm8CBnqWJz6CGz4eMnoSC2r2stPxo4t913X+1lAQ6IlOy273hI3DSQiuj7u3gEezi3smxvvwasQAReVwP7z2OKwH1e7RlC5+BBjVe9xitiA8OdKar2osy1xq9SuwIskNniuUUN/H5JwGpJYjBj3zNEhUVjUecVFbAAAARJBnw1FFSwr/wCbBmTTMpABYJ6qC/wd2FNcW7f3tyMYzIGhBEu/ntKrio18696FSStP/b81h2zyvWsWGNQma7XIiUNrrSeOQp1BewgiDgo86PIvf7mTt/j1Ttdex/i/ugeAa4uE4RaNz/ttZcAdV0moV/yZ7tmHEk4Qq6hbNrLXRX2sbpBl2J4CLrM2Usbr4YqZ2ycVyLGQQ0SLwzjKkAXdtMmOLAF/Ity1nsQlNfJETWwWshJYTdsOp0Ke5nDE3C67DyC7ag0fTmPh1gfcRcNuSDjrkIY4aw+PBzEvNb3qBMxEnRWgT3pb/NeVa01YnAj+5CaXhsP81eNSE8LP76wq3cmhTXlWAZ8FP5mwT2MywykhAAAArAGfLHRCfwAcWYUVACDzTH2Dz98mJWKOo/456OL0W+jA1P7pdkSYfmEEuaLBuA0TNhUR9haMvLmIzoLF1Uha8Re6ME23R3CV++PqutPpWIeJXkHhCDuTyoUrDBMfGIEU7Y+HG0HlQ26ik20b9W6UJkueck+JPrrZypYrl9FF7R4S8IC7xuweJiGP6kY8Vfv4E8FLk2oevlhDHvrw3MAewwWcQI7PymbAAC0AOmEAAAC1AZ8uakJ/AB0V6AA6R0yymLiYdOkoxGASejihLHduSNS2MtArhpEstpFJ56OIj/3zeqRj5NUTfcvsHueERcVdx5QhscatvT5CdzTLPodO0HX+5ksfTUX3dIWjkaI9cx/5cMXURIB80+Jk9ohGbXBCAey+cEvt0ajXF+PYqec7qPVAHst78BJCyeZqVH1O50lQJ78IAyrgbt4GsHGihe4B9Fzku+HjXzN705+hzUPe31PGl1QSMQAAAR9BmzNJqEFsmUwIb//+p4QAB8vZT8Fzifzd7AAelYaepsvGMdXLhysXZ0O07dpR5mQKoQsAtIXW0ck1Dm8yqnqFoRZa3nPdcptp4INAuPMXLiy0ruEzzrlGNxlqt2umWqIzZdWzf4GgZAQsmVYEO0dMrSHRZhAA9zzDrqDqpjtyOa+HgA52H6++OM0X29FiR9CEvUTvOhGo0Oa/69pwM8ZMYLunJ1jxxd/YZTSTkATRMSbZe29V2Ez6yJnMksS93qMB9FcfK6uCJtgeqv495PgOEJIJOTBqhf54kdhbJgXjx5XzGF3SSvF1wyV7//PZ2ZD00UZElpc2MH0ec+Rlf1af+gYY7/ApMU3kQDEX5wWOc/2SB3+1eO8XQRGSw2gGpAAAANxBn1FFFSwr/wCbBmQ9KDZIvrxdA13waWN2ABxvLa2la471zXNRhtawaSEOZH0eU+R3BIILaPDKZKdamlBFfx2JXwrTqYPaei8o4ZMp5cptn15kVZCUHFVqLLCic58HKef3nOE7UisjOU9iejvnUFBl/8c8XPpgVaBzFZiRoLoaW+4zdda7xr52TKtK9qSyvs0qDZCCl54nC1wNK+9g0Iorl3T7dA5P8JSDijtYvjA6wXm13voMbi84xN8LCpdkyWh8H0+cd5I9Trs9lxbyDx86ihedu7eIT7Pm2AGfAAAAxwGfcHRCfwAILXIS9+8AGeA9EgtdhQuur2eRpQNz1AtJOMRQ1eeUbsbfE4j48QO+YfxrqzZKsaGx65HAykQEQ/WXwuz6FfJo3PFkare1tT0WK4o9Bs3j+fryscpvzAAqdGxtbBegWFUylKSCf7lfr5frTUE1pv2qwihOCjzs7ZhHtZBeAXtvNXmz9l57jJ8Fkma64uAca1/KIsp0PNp/wBlocY4clp4r9zVVjV+z9iOx5lw0rBTLu1VpGJ8CDzqOY+GD8LJyoakAAADdAZ9yakJ/AArNw5uSLytrYZ3eQGwBES/NF7upMYpUN2E+McqK2XBvduXa4vowzDwAWNDCLUdF18Z0PKdxb33Ue5HDXScbPL6kolx3YypzZLg/0/SOJQXFmtXKq3pJqHzv/kCfOlcYdeDFpDQz213e3ntMu09Un3ByOOk6RYYdaqnSO225NYPeZ02xwwuA8Qou78sFjJm6E9/1EIkzKMuPYlt5vWyd4pUUiufJoNvNNMU7AWl3y6BxdbLPCbmfE0DdfQi/quNmjpfNHvJmslKKFhrIFy+hPVIyozWVjugAAAEAQZt3SahBbJlMCG///qeEAAPPwnubwAHiLtFeAcfVMmPW6XnYJyFAf+uuPzsR9hyVmmVXYKyWpdAA3kMg6l3Tir/pJznbXV65JzeETZhUACr0YEXSrQu+ZChbrgwh4DF+NLTQ8tJar59fQ6T/+6KHPkIRqIFhOn4S5ubFfxqjY38hMqIPR8cihUf0Efw7tEJabaUHVxL0bsaaORLTXCJqk7RXp+jkdh2CYoAr7z045Dnf6yAv5TqxNRFGB9vx04kkd0dVHpdrqMJCtajh/WZY4xWj9wrxwoChL7RPVhx2bsu9ZRDV5dmIlm8gS0Wuo5WvzfahNhnBN0pmZmpafXRswAAAAORBn5VFFSwr/wCbBmQ9EWz6WncXFB9pMABXM7BKHh7yiojPSochOIixgRW471LAkYg4PcI3njJOIHC0D+M4m64AC02WZ8mCEE+pca9o4MM/O8btq1s04nRcW/KnqFqwcUkT40XxHA7RKnHcDPCGeekmzILmxJ37Og0n2mQzgQZXCov14g5YBYesZ++RYpQtKa9DYHhA6MeDFxqaM+8Gu/sHJ/INwPkEdvouY++Rayb5UT4BoYIPYMMxdgXf75wekFnP45NgSG9KTvsZDLXXegR7xhs3b1ID9lD51WsJSuvCOQ5Xk3EAAADIAZ+0dEJ/AArKNo3yFUoceAKL+DZW2oV5jRihpXe9UmBmrUUP3ueBKNX1gDikPoAOcR53TgnZ28LdTMDLZK01WQIoqphdmF9pjXtTaf2itZFVtPz48ji+8nWLAkEh9x3d4B4qCUeYf2JIfZ0yhB8DIQ/lGrhrQ7coqhqWJ0vIaAS7/Xx4wBPSJiMqi5nK5On2lo/uYb1yIcbR56sbuiBHeKTdXZt/KcnzxgHv59YuGhFw818uys2vt3ETibQMbU1ivKtz2pEoCXgAAACCAZ+2akJ/AAQ2MPD3f80BAEIjOARPORp3Wknmoaj/JbQNk/dtNy/BQg7uXPJVx2lhg+xUyaIfzkWICjOAMWhEL4Qws07SjZVyJEfCook22PQMUiLM79f513wyou80Ec1U+dD8J/UzcBn0noWWn2f+08aXghgSnUKp4dpwwdoqwiA+YQAAAQZBm7tJqEFsmUwIb//+p4QAA8/sqQ5oKLc+YrnxB51zjgA0usHG62vLnD3dFMNBBR0pRQdA9FOL0YLoVEV+vgf84dl5+QfYtIBOybwLv0BVl30zwme5rtKgYvZONSCAs8Yngu7WH8Xinmqixzw3ZqvWhtF7lFujcLUyiyrxls8PYSB9tkFGc7DF4UMk4nDnoJnBdCdx9rSZSOY/slHvOSL7XceptpKu+1XsWOvZF15Ct8XS/wCQCcTCbYYZkSOg9mV7fxeKvmUmJTn94RXt0+iLS8sTwSTWeGpctIB1AnaZEHb4HLto0defsR0E3N/wYZXGk0YU/1iAftX5cLkcj8hS51K5BBDxAAAAyUGf2UUVLCv/AJsGZCmEiTTZV0pyEkCzaF+CdMJD/57fR0w+0AGd6gDfofM1j3FH+ZKNW9pmPV8+2DkfQ7sPTXr6/D0mwQ8aMAaoejDNygW934aOrWX821DEEpDvSKvcL/9/XPnsEtalKH+JJg8nQwvsfiyQWDqKM49h0grPn05hD/kzNZxPV7w6Z4sFn2TF7sS/yu3Ju7cYtTg2lLpEPXPw0SXyemJy9c25W0vRXWZGWPE4qlrkLQ9el+BFjjHfaBTQAp/oQ4AsoAAAAHcBn/h0Qn8ABBqn4ADUPOH2ElX5u1w3bohb7qWfFkI4TqHNaJ7I3tAc+tTxyXJ06JggHTP+lOAsq0g/rftz/uabL6hU2VaSbch4kGznEin75MgdS7PwizzXMiNqhjjnxfk2v/IZcni6d2xf4avG71WbE6L/gPAOOQAAAL0Bn/pqQn8AAYh5jRtQgxre4gI2KESQhAAcHE+qMxeUrTpRRNk8aaUuASvSjaEIhX5Qzz7qGM+WuMgDcX3cPmO38pfuBLouW7VIoTewtCcK/rmp9dmPco7afmETAPxJI1lb3yLtLYyQhpU85a08qjjuXHfpEd4qUhKlYGpwfWgKkqX98WV02SSzK6ZKbYn1cG338PPgvYDcLJ5pdIOgdjxqGyBVLDI11WnhliQOBVDZaXdK3zWcRkkmMPy8ErAAAAElQZv/SahBbJlMCG///qeEAAFI5l2mCbhcf1fll9FcXmFDUg4AcIfjKSlY3psoq4S08VKRzXUpDNfrlXh4Dw3e0/iOlCStzE9LHn8HB+9/g8O4Vk3PtMa5FR52JL+uun2DXLAE+ILDPpHfck9wJtfY049ihaUg2ebbv/vt8sj7Bszv1YNIbQ85XFGFX7PYaaKzHoh33co55KeGBsOtwqCj1qIK1c9ixODvyiFmoa3qJ+ShxtcEiAQ2/o7M7YdfxIlc/dMnXwf7Mu17OENoTTlJnNnZURpbu2KXL/vgQ6rOvvlmiRK6X1yHHtOftjQOoqWFJYUuvbysaBzKXIUL6SiPEjEWTX6UfCs1WHprQjPi+8S2mTnnKTRqTDt/CboGodYeec5qZF0AAAC2QZ4dRRUsK/8AmwZkKYSIJhbYSo9fSvQJcWcM+KdgE1zfRHnVirFj4p3OQrXkbagOnLBARAdDxXIFC60DMI3AmbZRFBv/Fe6IceWTdzrq1WHfUpZkvPXaFgLsI9g0pQXyAo3JEd3WIEThMOa8j5xmLz4lnwUWuAr0z4EVqhYmR5Oo0ZstuDH5Ln4u9nG9aS48bwXTglZD7HBcp1DimojKNolB+FG+GGvAN2QEeHv9xtHjZxqmitkAAADKAZ48dEJ/AAGH9FChG0HMiluOFAFBrl+Vl+1p5S32cPEBwqQcUkGU0QyHkqWcCr8m55Tu7Dr9D6/GoefL3JHD0GKBKIuHmmzOsQaZaDAD1V+iJEiPRKWVKYVCxR++QGfdGj3Q56zfaPMXLsJ0+p95L4WfMn/IKMkvSo5/WbAVSdltXbMQ4KUUjoDfa177YK1mvVzKxwtQ8PT9ereFeDJXQ42QJXcbpX07xedr8n2OXqyJbkv25uD09K7PipHLVEclSACvK1JvosAi4AAAALoBnj5qQn8AAYh5jsULKnx7sQYWf9ycAD8VNPcTbrz2CFobQ16W8EGH7ykzDk0T2IN8RRLItxLOXCAl45U5ae0r0TZexEDmF62uyzhotXYuGcDIeF++S5hlMWxNi0hs8ir5w3G/uU6HaJfp64XDEPHF8GYWHviolz8aphHALxvaavROXxR5OS2+eVQoued7HP0OqQhlzUtCesIFckUdcC55OTYPJWq/V+AUE7hoxoyyOVltqoTI0eaVAwIAAAEHQZoiSahBbJlMCG///qeEAAB5MY8bmy6uTNM8sVO+DTlmIzACXGv1Y168S5V4XJe3zHDnIcz2PlBrKHDbL7JmSqMks8bnm6xKD69oyucrwJcOYaV+XaThJO43FGgMcEYbJdasRS2slY3FBc3vVftTyihFCla+BgQskiKX/hMVeKx8WEBXn4n0OSYgabB3undECcVO/UIuw83uc17PiKv9hvwQLsno4iAlGA6hJmo1F30TOD7MHi/EKuHe5gIGBd6EwJabYPNX3Y2c98Jrk9BZRwZZ96par/47va7METYK5Jm+tQzytdBjJfADPqSzxQ9MvmwwTopEGP6QLjArsccZASn4pSEgwkcAAADLQZ5ARRUsK/8AmwZkKYSIJhbYSmdxrefm/ZZifcvD0AN15o3YFPgQab/T9hYZ62nIhqcUJP6JGLFpz8R+ANvpYCor4ubCeI561M8HiqXB9iYyOA/TGLUfkE5JhRosPdxISz/2KWLSjuN8AJTJyb0Q/5trCRjEMp6EL07+RjcoS4l1QiVw4cOhcCrsS05wRamZWla7RmLwqHJHOsUh8ofO1CrPcScNO1sYuPY7ao1umOJ+tX4p+sK+MS+o7JGwhjlELpugV6pkXcLUImYAAAClAZ5hakJ/AAGIeMol/j45D0/mAB+6UkxTMlYc6cWGiad9GymRTNLU+JcXicK+KqKeC5w8sXbDpCgHXpUTniQs+YbWs9yWYA/x2VXYoOpDLQyNORDQfwCC0XbRXkX8FnDrAGfsdyIwd9ySPBLiUuQU+VtkhlBl5SSQw1rSKcgRKkjhbHmO8KcJNUppVev5BdlOH7RtMr9XiGsgX/bqYwCGtYfDeD/BAAABMEGaZkmoQWyZTAhv//6nhAAAfsjQKADmwQemj8vu1g9VllWckEn2b/7H7PUw2mKn45EknCoY7wrzYH+UQvn8W/OZEEHAEHRxvVacsu6tN4/aBPErR8JOn7hPReQoe2t5sI/O6euYxHFDxvfoTmrml3HYsDhlvHZ5/R0oyqQcNtHIeEXc9Ckuj0noj3M+Xv2fqXob47LMjx3+QAwaxPuKhtsTAEQLtQxao1iOmSx8+TvbDV1+6SOA4PT5ByPuWIlNB4TRd3kKn0a09cgBREWD4LRXEcSWBPu9wNI4SK8sC8RWHJJ040RsTiI/h9JhuWWxMr0Pz8U7Jc9rrBJiV+KtUMN89vs0j6ktuHoNt/NfTrhs7+gSRrY+RPcY7n+z40QqXWUfcObuekmz3aN8mZMLU0AAAADPQZ6ERRUsK/8AmwZkKYSIJhbYSmdxthJiknpJunaXypbhYAI9xfZfyiAqEHOKdPhM/0xSZIEI8M9+MPMa0hgTRlLbssxQHY+tKHuEVrmDSziSXHMrUmyMQk1PmaLnZMJ8BuLlLg68H/4fTldZUaz4VLpIVWZxaROzRzzMcR68rYATbAqNxSMTZybEyBCZDHL2aA4+yYv4u2/8InrnUf9V/jWhNfjrWi321BlbOEFw3bpWXcMgxam+mSIw+7smDTH9k2sONyS0UcAS1yBSTAcdAAAA4AGeo3RCfwABh/OKMAjTo/S5ik7dG2vUZcAOMTceQvWFI2S8uwdyGypilMy3aVDZymCYH5MA/B5irjaOJJSFGRORrxPFpBdvf0GR7uozPnH1LRe0hkNyRvvyYKiOKwTrF2NkEYJql8z6R+pZfJ/6UkuAOJiai1zfmmus4T0qcKo1WU2WFyMPtdTjIwKOS2W5Hka69TFpD+LQIVMbPLC4++Ucs9hmi6HOrfMgFq7X8XJcpuTGPMqOQK0PphCyogpyQTiZMdIzEdQNune8nzHSs9bKjQj61YrwZxTES0YkAN+BAAAAtAGepWpCfwABiHjLSjNl3ADdeHOmHYSP6eyNrPxu0g1XCTpYeni52ez2tQvL7vrfDAFFl0pzNBZ80wlF7YNnPXBKKsjUUP6/IiFhjBjBba2ORHv/YIFq6Nzjv/3Lexkfn4FUC1xTCXm5djb763a+bP5t3ApMNQdqR+wI35034fY7YOcZwnI/9r3RJvQqk6uuxRscDyONLQhBLwZCZWJvluUHo9hufUMnKuZe2MYe2aG8pTeOOQAAASlBmqpJqEFsmUwIb//+p4QAAJNyD4gl2SgAFrK2zJe5ogNN6s8NJDazT7p7oTP9plNhL47x1jSDR00aHT4YpS/CACu3XwYObAN9ogKbeVfJqodKeQh5JICqtyemxZQBZTgrKILYBF4GCF6yHEI20s6MIZiken7oKiXK4sWzi82B4tA+3n87g3/z/XQKDbok2EfIB0mDDc2ddsXeRZnxkB6/3dB6xueJO4EwQ8RdK0y/kY1nt4FMAkJQup7DVb/zt8OU8RaG5yXXhLsLBU0zRDv8/o6yflsBbm1Zt38vFGG31yuda5CxNh7FJapqiMkgIPszj6ayqPXAu6z5Z1p+NJZuL6MIkzLtolHAhdqXGVRV+KLbB4X/I5IavF4fHPs2cu0CwLiFKYD1kScAAADnQZ7IRRUsK/8AmwZkKYSIJhbYSmdx1cmBPQAAo6k723N+UylN62HRXLLmRNIEJRuYBfOg+dVzLJQ2MItJiPp+dxWBLWDR2Yq/rXRti23eUGfLIzfWJjMfTWzBVrkRgmLon7uvts7wf0Fxw1MExl7e6TBjvdXapI8AYAs8X9NeKMbFTGmhVfCQ+t/54A+u/15ZBwmJwaz6vgJ9+kSyH2qdGeKJw0LKdV1WuNOJN9hoM+Z/fg3sRLz4XzY6JHxLAp+spVJf4X4Y/wZg4M6BfqLot0TopbRzs40t6MaGSV4M+QTdj/IjfCPgAAAAvwGe53RCfwABh/NuiLjRMAEOy9UGtinSjUpJupMrK2oOBtZ8co8XLudM7CV2+W2FmFNtrhDyz2GQKv/8u3Sr3hRiRBtOoK2GNIjbvoW4We3s/zOp0ehLwRSTUhNdtnpeglBVBQQVHWG6lu+CVVyGOqRMDae99JHU2AjwEGCIEZ58twqB9ciEqyVhGzBo5DpV2AwRxnnmRp5cvJimU/inbrzJxZqvKjYX5IWyijGgLttwBBM4vM4Mmd4DsMyLAFfAAAAAqAGe6WpCfwABiHjQ6JaaACM1Dc4sxtX6MPn7g2d7dm2G3QfNfd+yZorPgEEAsTv84QaBu3YoarBXdTyT81dyPikJ1ch0MrjxYjPskeV+Cwv0fH27Jw17/vj+IXJgOKESbYotrnYZ2exwxbEmUuENudKko2JlVGZaus+Q/YOHAWXsyflYfYo6ULSOP2D9MXr4XiPLCqVyFoVvb2iXhprkIAx4kAxaUZdhiwAAAUVBmu5JqEFsmUwIb//+p4QAAJN8jYBvmn4xyL8IARB7vlwy6Rf1/sfSEmTY7GbznzFWqMRs4qP0AW4AhHwDd6Jl39GT1dngC0MSpeKzQ/MRDsRwY3h0/GnWCSbZczDCSgsfQ+XlEdYM0FXnl9r55Ou7yt7z3ll0dvj6mMiF7f7LnIC4Mse/+X+ESG6enqH+H+58a/yMb4I+ZFzK0AxLpE/DeZi0tZ9GzC+VEz+v2IbkIo1DzIsnZxU56AMn+Z/2wWO/TCstmMOj34kba1RTwDAU4vd4H1ZrV3oiWpf9iezblLgu70uLAjqOhbQLlQUVN7XVBqPqD26m/53HIUCGE71y1/pJ4TP/EeKGyG8b14Owjyrr29sxSbqNdvcpaEX/S8E+zHNAH2XuHCWtoEmEElShlbtURxWHB78IhnTZfK1+gt+2ZUFJAAAA9EGfDEUVLCv/AJsGZCmEiCYW2EpncdaOoL2rJl6n8UH2+9QALjAIGarx/VdFY8ydePz/+6CVCIi0rTYGNgxETHm61/iAs9OmaFloQyO4tDbDPbX6BkQmLjNfARwPCb6bFb6uYC8DxHpnI/pgUTUxd0/VNsK5YXa5gG1SL7Zc9GkoEUEWI3IcCExazk3dIJNomed0Ev3OST99+nEMcT3xafRQa6muZF4lhmMZ5UD757PtfL8yZf68NUdWZsG0sCFWBCRT37wGYdBM82YkUmTkKrgm8RyxWVFryduhkeEhq64OTkGkJZGE2U5QXhVJQTYppH4IMyAAAADdAZ8rdEJ/AAGH85DBysYLLdlu9hFjlC2DlIvY5OcoBgCO0pJeEj2O/Zr79zGxMfL3BMqdavaLLcqJEcLpDPpMAGXTNoV/X+AyOs5REe8DJ10ra5ui52PnTMleKzEbRXnmT8Ha+q6xnWNcXVEJhtpxFWpCwfZ7ZITetJ/KOa5/0E5qrvpAUWJvQs0J1rTVgZUDxAkru+yw0TU7iYV8Sdie5PSVejerV/X9lC8TUzj0f/kv5n7etGTqn3tVZs5C6HP5sKpxEY3r06WTdpVTdJQbW/S9OOo9AI9iwtdUAssAAACSAZ8takJ/AAGIeM6pi81ONKl5wAWhHiKGtHB/7TDA7ayZK6MhqPtEFBjaP5MLdlfPxlT+qiwtyQM1CVjS9vZ3nJ+KMW98SZi8hLE5qb53U7EWfeadwkHwKlw9GT1GFS05cYb0TDZ34jOtukoa3Cv1PcNHBQt/Mugn/mU3vMJkToEmujWa8GWPDYMd0l0Nf2hoJeEAAAEqQZsySahBbJlMCG///qeEAAAyfsqaMn6sjmXX3aTcuUAHG9vVtyml8uwvdhBlI7c7UXtakNd6RBixOirpuj7CrExavMfPUSKX+SyXQhaqzocn8e1MN9RC7RkP9gSldBvHhYizzUslJ1WWmv2IpdUr1/soY88J1cYh3rZp0BjmyUD1lCWilazfXVuOO0MACmcBX2of7weZL1kuERAc6GWmjQjXbosq4hGZvSsa+SRbdb7y3fY43/cTR+BI8eZUXo3LVfldmLlIXpFijk55sFLpsjNn3GJnFixja/Ov8E1oyCFji8rEy34kNpG19VDc3EzVYY7TAFg8X9R4JZw67iCvxEx2RvVk17z2dQ84yBtsGc8kEaalR1pqyIjq+gRFWg7zeoHo/L1rjSTV8wAAAOVBn1BFFSwr/wCbBmQphIgmFthKZ3HJ+KnZw39oYAiQt8ku4VIVbCU3R7cHbW+jeDVeEkf1V0HnTCj/F1+9V+ERzeeNGMvA1nAZKtByBpHvkY2Sy7blv1Tt7K4JA1JMCdGcE1Ro8acKCdfVmNPjD357KaLfYVOxr06QbriXvy/nobfUQ6a43NjqOhi/XD6iNmIT+MgaEfJXALCf0/lzu4D+UL1fE0LSazdTd76sH1+BWVE4TuUgA0rtyOm1qs8CTFmxtU3Jd2mChOucGhel3OmlhGh8FhoQZkXALaygMfWskOkpdAJeAAAA0wGfb3RCfwABh/OOgsvH/8GpomNyeopAAsE5gcDq6Uzj0DP1L/KKLxbFMNN9oNnwTvJSlF5iUeYDST8LmIkEHnL7dxY8T0OlEOiUXNEU5JEZgCi93eS32ZhtNNq/LpRVwEFl1qvPB+KHgbV8rCCOqIxBIRO5NL1XyDkBBdl+gDk0GI7KH63ZSrgykZgKvpnKsJZGaHaYH8YWakL1PTBoC9IfqXjrbN1R9PMh2sMOv1GNG59l2qA3VBXYs36h9dy4stjzhs6qkf/4wectxuUNg+hOIeAAAAC7AZ9xakJ/AAGIeM6piHcmAC+8YXMYd3jvetm8Q6X/ZL6St3mHpsbkYCPI1cpME6ljdTmaEXD7yZa98n7z23f0e0xXMdrr7JwYYQ2QIaA4aWnvqC6ylUmVyDUroKRWFT/3ZQBVQ2PIE9K2A93nm5rSZxp2J86t4qsLEHKpWIle+Xs3XgEu5RarsAVskpDS1lrOqyvvGbj+w8RgLvUDqDU2i4d8l93titrbzv6iwuuaAXhO/2xLTutBupjPgQAAAUhBm3ZJqEFsmUwIb//+p4QAACf+8JbwU83vhwxbgAS1cdNCfPLlNgfa8KHlrFctHa0Y9zKK9Y+yXBPwvf5gWvtkAf3fT+mGzgJIOmVQLWvek8j72vJZOm60gqWzIWpgrKwzkZ8eUCpPqv1IKiUx8nAsNhPhqvKGynzZN1hbjqi1AVQZk49Pk3EGbExFcuI4V0Vw4F1Tqotdbr5dBz4L6PahYdws1hCrMw5LroXMe8KdTaYd2ps+ExsRwKILN6EcYxY8bD2/a35/2hY6EoSar6WRLIRmGecUzT2OVMeJ5Db56gKMgFsajpvRI2sZMywjMByfyt91IQByYi/k/lPS51h2FcZEjaQyxCU8MGP+V1nUJm8e0xaykbdnZjSmRJcLQVPcceoY0YlsjlDSiux6BWXAtmfsDtkUPO+2XP9PzAdxpp63dYfZS+mAAAAApkGflEUVLCv/AJsGZCmEiCYW2Epnccn4qdmg6zs8e16SQVoS5euX2AFuDWReJwut2S25q8r2CDxmLUh+K5M8VWGIJZiHDsK5OlDB0AkMSHUZz39v97eWBMdESV5dLb4VX02UD5dpF+x8epg5ZpcK4Vs3StfBwsxI1xv4xbhuGcZEcjIGgsKcONmtYz5UAA/P2fddvW7rCEHSUN2yAn+NkkrE+Og8JQQAAACAAZ+zdEJ/AAGH846Cy8f5AQ9XODX8Lcwt5sv5RkoSIAOJRi/eUpy6YfulJ/F69PQpUGItHz0DgOT5Qm/fCDfT7fmXOA+p5/99d7HiLA4Pb1M8HyLr2PDsTUp0X5J3xhUG4GyOJlDi/EiIBnSCjfr49kZJvapbVQOEeGdbbb3HAS8AAACwAZ+1akJ/AAGIeM6pi81G3RhfrSogBGBF4HexV7BVbu+bdzuqC/lCNBcuIbNA3czwSBk1xMiO2OSGkA7nGlFaYrbjcR7a3/uSluHLwi7Sl6TsCCPLwpUd3+PgUwEwBCMpgj2glTJsQ3FQGAuiRZgAJsqA3ZtyXhnWErkWW7IVp+3cR9T78rASfdD6QcDb85+nccudQqb/rD8XSn/digF2ghMd+39MgSARU6oja8VwEnAAAAEYQZu6SahBbJlMCG///qeEAAAT/f2++wSvwATt7pYp00Vl53b+wSo+l31OujJ+gKz35tg4xaCSya2TWkebVf/q9R/cPHPt/nAwx5646FTVJiS04kgH50Td1RjR0E3lyWabQbkFjK5MGLtVZ7qTiAOfneM1Ma9OsKxn1jLMuMFIgyek41rgV4+Wy7DM6suYSNsbvJXsR6TDdXEOruDPy1J+2bHJWndkM2VIa/3nm3iwm+T0hDhIdAhwD/HUQ7xaXHqYC1DPRI5OZsMDHOX3RkGRHFvl3+U59EAEQM035IYXTe83BLiXskCC7NZuvkFds7/Zk4XrxJdlADWX4iO4mm7ocoQa2C6DdZ6QEPFDbPhZeKmHyq4hooQN+QAAANtBn9hFFSwr/wCbBmQphIgmFthKZ3HJ+KnZoOeu9Y5NKkAwAsE5ZF3MXpza9MDS4Z72pbdXaObrLm0YzcA4FhPoqOgGiQLPgI/cETCRbUT5Q8Y3v2u2qPzexvlNbGZHKP+ypeg1/Sm8P9RPenU2VZ92YEafMqwuH+KhQrYHN/+4xXs0jFy8N8du+5/qhBgoA1K3vd4sYKl9g9dVcQLgIOdRN05ltK+wSmO17f9etyAatY01X4PlPytCbZ2Q7KNcEMR202waJLd8q2vLUK/Ni4sJzfVC9gkwkM4qJOEAAADaAZ/3dEJ/AAGH846Cy8f0DzUwgBYcmOgbREtmhLa2iTkZuk2hFPfVEa/txWiv8fiXG8D5lRTgOLB7ChDbz7LQFQdSOMY5rhlHP/U0vh1ybOALSGDMkli7SJCaYbVD5xipx+/DPfOwxfhwvyPGZ0/etNwgRFbsUQkUysSCPWFhkVbXqroO9bdNdAEZSBU5b4NVvKAAV/37f7p9p0oQorOKciiTQaY2+Pg67vNK5C5KG5iWj4dayq5ul5pbMY4nw95fEYIdUQJqvWmTvZRBYxeh7EZ0hZwqhZnAC9gAAADKAZ/5akJ/AAGIeM6pi81FflvZGlpM6WekALC8dKIu+LrFht8QH6v+9i8HpxAJJj1i+xh8UucO18Iigkuxh49oA3dleV1W5sd/2Ch2Uc5VTKQvLVvSp1Q0/Zuua0px/538STSlCbxl/o4RWszP5mXewcOAzSeH/T0XnfbvxcIOOAFA3QPyW3BaSE7H64BgMeCqvRY6xw8PDxnXY6pOWmQJIY04KqZpoFkmh1LzLY+4E4lHpIYl+oJR9h04w7qnRephPMR5k+MR3kal3QAAAVFBm/5JqEFsmUwIb//+p4QAABP9/fCS4wACMrku6iUE1kokD0fAoRT46CU/5PhsgFJOi/eBnry4pL28kci9JgJ0AyBoE2nBG21S7VU3/COcYdeg8w/CsNTPLU2Y0yNHXzlzYdY0aiYqkTxyXnkXnPQOpFeCXINSZ8LDnkNWfSTbDbckP+emcPKeytyjuLnepmXmBSHQTt78iaQeG62DKHLPPGeeYhvAlUcl0gYlzbjokQz9wMfQ4XkAGu8xiFMmIenqxHKK/O2vx7mVPz8cQpE8QutXyom1vNk/pMSzZnH7Z0T25WrLWZFEVEfL27htGm/u8LSly6dMjPpm21SjP1EiiJ/iXBOEfCee/dCgz4EEDRbhEgT7TylRI6hScsMeYXeKC8AxiwCi3mNUCglnkFhnNUZY29Ri4VmmfQA+Ploa6Ryp+AOEeaKZvMb5FNyqRLuXAAAA6UGeHEUVLCv/AJsGZCmEiCYW2Epnccn4qdmg54I7KFKxan6ADQAcFPk+CxbF3H4C1xIirtHJQ4pUXztUg+2iPMbXBFAE6l8FsSv8TT36f927TlcEBPopg/oblQb5Kh0aS9X7q4USz+Bd+WiXwRzSyWllRetIuKuZirEHmY+jUmmjCLdOjz4r3xIDEicZOCERqV3XIKWMf9FCTk/NshHyaG/N6Z06FZaEW2FaGKQ7TZC7AW7bcK22xCTvpGpPrK9HceFZzuVaktbm6LOj6uEE4TKltZ91yvItp+wa3kgyML9q06KJnG2WAELbAAAAoQGeO3RCfwABh/OOgsvH9UfLUt+Z82AB0ji5hyCLwGr2qiRQIfXmqu+7dEXBR1Oe9av0ZxypruqwAH8VzVIkSyFGgcqak7GMx4jdUyIUD7EOVnAHtXiaEATvGnOFvxnYpawRrmoIRpJT0GIpGDrpjKLiqIB46+pkL8lx3MbnysjWAm0eQ7UTCaHz9dPmMzgu+UwaG7fdlSFW4kuertDKgAO7AAAA/gGePWpCfwABiHjOqYvNRt0XJXAAnfx8OpSIAcFalM6lhMm7xqDarXnkcOnQpwD6AsSl/iRgXhqCKwsesX2O5DBugCDu2Fo7D1unoPGX+rClQ3xic6xrQnAh1M4nJy0wYrWo4HFX/Ot9hg54uiVWHZy4kB0drCDOzHrHHf4dx8GTJ46hMk+kGZ0lREn+1k7k6pN3jpMRLP7mAOMkkoqR8agBaejm7fQDRutN85qCyxd21/086gipKvTha9vNc/M1amMB8SA6C/gW2LmC7lmm53tUeqnJJjx+57FIZfRq+htSkHHOS/20ZhpEOSydIkNTGoout8vOYcKziUcWAIeAAAABEEGaIkmoQWyZTAhv//6nhAAAE/94T9jvUvRrPYjMACLdADY4AfYc8LSWow5L+8RS+X9wRACilWUffi7ROZ1/UtImWAAVFprf9k/oufvVxWdvUp9UIs1mbJ1iyKDN0yfvbeNxNQuMWj3D8yMbp1VTetmF+iFYdI/rrI6YPFyBGzGEsUBiKKMMymwSBMeICf9w9xJNckLy2L4ck2rF85vR5M8wLi49HmhFphfuICHS4dGLaOOOysYpcwPIoWmglcHzTitBYuLhf8Y013Z0quJ4X8a9GA1d/dEMZQRd68eIqQTgbqMdC8aZDd9yrf5qc4XJm/rD0PdxwpHRp6sBGfXl95Rwqh1vTRQcUM8AGuija1JAAAAAv0GeQEUVLCv/AJsGZCmEiCYW2Epnccn4qdmg54MdljRvGrfkz1jgZn14HHoigAcHR61qkFhhiMnWbL39MDK1iZQqMmgXSIWkpZV9O8VVHkA58KGQNr35xSoEWVsmU0RorSTDPrfC+lXRtQtysVKdPOZN7Nm+XCc8tbYSV87eyRxl5UY9RuzN+3QSenZd37Sc0mZWRSwOHsFfo+Q+jcyOA0j4HTKF4C6QEJfKOvxhk7Ko3XMyLT5f6EoHFv5R9DZhAAABAQGef3RCfwABh/OOgsvH9UrdGALWdM2KFgbhGM4oizs6NCSELPg8fY8KBtKz4GNalIMD408xDwidJ+ZbQ7zFKHPp0DX7r06kIHraChABZmGiZ30VucwNDMnphZlixIRHROzWyG/lYaad7o6LQKrntR1sek6Nt+tVwbSn5xSOpZr7poGr1bB+/sZALKrfVR9USkAt4Cl4ey8RtxX+3sC3xrewEyM8oRXMbwVi44XG1gUvwiotEjniRci/pCGGT4Y8C1CLqacYXgZ3R3QFmxconxFvrrQEDmfM50r+GWadGf7cq+HJ9kM/aUlV1Ebg0nY1krZcaUjw8qFGL3mc6zNvWY1IAAAArAGeYWpCfwABiHjOqYvNRqTOPVCeIPDg2RKaAIdGGsN0wcaZ0ewfWAbUrZKD09u5lOmqbRO2dAErSUUEPmFOK1H2u144pE5ehrOczaQjTNoV/X+AyJwg7BX0Wqu/abqXTgTAOmNo1sQgZwAtaOaqKc53kWjGPGz3K37mzrp6v+2drta0mzEMS0GOHP8VB7m/3VXygWBP/qm780D6mc77hvs/TA4DlNZ67m/IBoUAAAD2QZplSahBbJlMCG///qeEAAAGn/vwA20Q0EzEQQ6O1Cx2OgoKkNC2Ot55eDw5DRWAdDl87Up6iNyH/BTBsuCh9pXlhENMXB94m1BSkgGEWAXvUCfL01N/IuhkI2Wgxs236MBi2CgRO5ujXXC024H9/bTh+1Ww21cynweYZcukRi+f6QWucUxQ4x7ZLMDRyFhImoAkA4Df2Dw9aylxtQ1ShSmATom3byxFVuJLRCdioW9J7ckKKVH9/BYOy2Z2whCTSnQVMVY5AH3R78dhQBI3L5FefBaVrNE6R5BeiNKHEZktnMTmUilkCHa5j7FP6c6dEMI8X4OAAAAA6EGeg0UVLCv/AJsGZCmEiCYW2Epnccn4qdmg5zW6BPKz3v8JbKOUIAiPqMpOXsnewOwZN8F3pSUt17uyLxgodqGkJAez+3AJdRyP+ryZb8nGBjz3tWXjYaEpV0Fl/8Td72Tzy6fq/ciInnb4BJhExhXimOX6Z92oqXscdmE5jVS6D4NJXzR0RcHm7hEbcrwDmGaqR/T1FC3LPsrvH9T/6OrdzIIuMYwHSKh7NUE+5TIJk6I2eSB59eQTTqTpU+kp7f0Sub2nzjfbZqH+4SU2P2kk7zW7Sam4v4uSF10IjWfKHFmeUxPy6XsAAADWAZ6kakJ/AAGIeM6pi81GpM5FnxqD4zewrEXJJuCRP6QBzDOGdjtIzs0hUWXlFOigN0C6K1U3YwPAOljru/2c9w5AH8r8T8I+5vuUImSZHd5mu7XQH2LmEbbZO6FyDaHOa0upFRNRdDHV/RKxJu27ZjPWpGOjZUv8r6OLH/GVHJiC9jaFtOUuuvGM8nJnsTTl5Gd/1bK7HKRobWmHeZ9i5EY1nBow0AywdVWay1Lm1aQ7n3rkJl/4+iFYZ6I+zv0EI2cSLt4eUk+7lWXsZOC9sfGVTThKSQAAAQ1BmqlJqEFsmUwIb//+p4QAAAaf9DqGGc7RObo7JEwn8JwMDi5ZB8Vk8ZwMgFOHiE5aAnXeqkKG7O7aHiJOvB+AzCvI0OxdbFYMzyDoz25LBSBOrSF9cA1SPxf6s4M9qA/iIxXhGVyJ7YjO4O4WYev7Y5nDSdWXHqKFKveyHhfe2kaosBXM3liHb5qyTfUoDICHvHq0uusreh4HAqojTMgeOqbFPWWkexyylhX2ZVYPEVpfVjSe1FjIseFoi2wJSNgEOnrVUgQY2nv8Ti5ev5Slq5XaE+kIsK/3HTxZtlwmr79KwUjque4OSYQxteIk+5om3vsTQ8QAPGSSOWjrY1/+7FZQRFaXZ66oBPSbgQAAAO9BnsdFFSwr/wCbBmQphIgmFthKZ3HJ+KnZoOc1uhLuw3nivq3XXPY2gBGRxB5tL5CWJwOLJWtYJ5cX0N02cAp/t1HJCpQEUGpTbcYlIEcTYI4Y7jg5GkoSCju7Y5K1FDS8uJuhYfFpN7YwWfJ++He3jBuIoaM+Jf97D59JYqt/1/HRPXnBvdBmP7H8dbuW0N1/6KVqYa6FaUbjfmZ0+7913j8KNJviBmC/myINUC2BgExkib+PJqQ4r3R+rsijaM1oGoBqgHWhwfInsBBoEllLopiApPAWkd5Vo/Yra8gEZqW7+0tVBDfeLh7ii/BFwQAAAJUBnuZ0Qn8AAYfzjoLLx/UFPNSvuGo16HnXE4gBGRD5sZIO2qYAD+Md46MdulducgM0oBkTUARpKeFqEVLJ4RXUyi9ahWrZMmOKGDce/LC6BXHH8pZA7WPhNEbqRb7+1PA5amE/iTUfDHgkeMRioQ+B2PcAc9I5JJl9XE/ik2JHCGW2RtzA7b35Oq8uGwhdn2F9SfwBLwAAALMBnuhqQn8AAYh4zqmLzUakzkWfFIBPXsing0svUAVvyB66u4sAJN59DieDLrWEhoAkPXL+9JcrEdf0IenKwgV1RuzOCgPrHvD35b2QooWaJ0P3mJVMG8pUh7XMFtlV/f+M/o+6CshuP+jDFCEOhkGvoU7M7yPpXA79Mc9zv9jhGC5aGyXc6vbJjPhqJr7KwPvL3DKeGgvj09PCK2e8EGquMYFzcagJ6LweMVIjzSj3GFjBgAAAAM9Bmu1JqEFsmUwIb//+p4QAAAMC6+8JbwkfWH+HoAQIaFWJT2EsWDwxBwKZKKA8syCy7JOV1nSLZ1lgM7K/x2NozHGEdhjSH+cQS6bf/demrpyoQ7ZNO9WwyAkAE94QvkdmUjuaKf+0BOgW8GAjSOeGlG1iayOSm9isL7/+1vwop873X2XKMwt1gll1/KkOZPUDU1XoFjmazqgl3rXtOSojDeC9NdZ5PJo+CBTbvDiCEiy9M/5qd1HwYSIJ616nS/TAi/fWLgjHQSl5oLq8wwcAAAC6QZ8LRRUsK/8AmwZkKYSIJhbYSmdxyfip2aDnNboS5EtEWl8UEmsI9tm3UsVwAdI0a0FVMaMa/CMIb6MlzfZBoVxU8/9SsV7yJdrpMVM4hUMjH7zZjLLmwm8QuRPMz/sp+fjBBStXMNS6IDN0S3jC9niWd5ddkgEI/anHyYY/jZ2FsRGV0I7qtNPrgDMJm3lNr4sWY7aRu05jG4zF5BaM/Otce2uf/qbbtvT7kRKE3wwUa6qPxQbT8HLAAAAAjgGfKnRCfwABh/OOgsvH9QU81KuShjqBjznWMmW4QAmTvp8N7iZ3TAl486yiMa6zd2BiYtxgFDrrixamxMgrS7vd27XE6oFuUuynnZFxdf5aukdskMLo4/iWsRPK+2EuzAdJg5u6ch5yW0PCOqareUXw0aHnoTBxZuubxo5Rk0rBi+Y8OcbFWID6Ec6Ab0AAAACaAZ8sakJ/AAGIeM6pi81GpM5FnZKAyGw8fl2RxHS4iALae9NbW71n8gbn0F3irn78PgQdrbskw1wSENgzeHTXumcoGq0Fwg8a9j97sS9h/nUOZ+7gu3LD7QTJA7VKTPzw45rjD7U/Ov5d/GBIUajLpF6abFtmcCFvG0B0K4l5SywUx5PdfzHF9xKLKeNJ+FYFaLTdn02qfIoCkwAAAUpBmzFJqEFsmUwIb//+p4QAAAMCe2IhfJBIztPacV0qTy/6in+2ZkiTy+/Ft4wtEa3K5+Lm395Ja/j3YS4VRpqTgC3Exm8XO3mEe812Ea5Zq2J3FYBvNrCek2xYjJMmIGa4ZJS4/Txx+kxbnTAU1NDW781KadOjc2JtPOyn15kPDra+mFX4epn5uys5mGeg02mjjSmqN/nuGRTtzxodPAHONKIWBWvV1Qt84MtJ71Fp96iZEgcdWUHfybxnfYA0U1NWSY0uETJQ6lTLGmdN1TJE4LU0ifqKLLYPAaUfaYtujILfO6o5mxGM4Bvnbz9KLaLbRyPR/uiZxDQtti8XQFGeoWicph0rV4QEbyjxyX22PlVSRCmpSsEizca39ECkjhnjdmEB0oux+mDi1ZgP3FY0zgSPdgu+KSiN9ZBr6hPkSlNn3pdp+ASUBC0AAADQQZ9PRRUsK/8AmwZkKYSIJhbYSmdxyfip2aDnNboS5EtEMHSxGOsnQArI2p4Qw9mM4ienjHIWMdh+ErayFmfQZVv0kY2DLz65sZAdA66mhRPSQc7Z3Ln0c03vTEBj6nDS63+XVYJC9cxFXiA8tQ44tQx7CdaW1RLq3AfXntaicjm5LmFG7kNttBd7M2WunQ9HqvpAGcYs8zrSWJsEo7WeegLT0uCXNKxOdPEnQ1ovAhXMTtZ6WOfdJ9+bS7nEYohtORPWIS13rB9xdshHJbYD0wAAAHcBn250Qn8AAYfzjoLLx/UFPNSrkoMi3CRw/EymzMgvxiAMhApynNIgAewycNtBErYbisVu6PXt8TQ4Yv3hj6PBbaExFp5ZTCvcH4CHBuG6Z5TRSH6fpWqoGcRyMERIshtT9CS8AijVH2e/8qf/c2Q5gR/o+kIBMwAAAKcBn3BqQn8AAYh4zqmLzUakzkWdkoDIalD+IUJlRwINcvgcyRQA1Ubqj7Vx5Kz9DX9l838ARuWrc/jDP2HqpLL1Wgh9cktHlnTEh4RFItfoFUaNoHeVaP5FFmrZinvUrM70hOIMk/ph4dL1LxU2dmNnZsn9uiZt0wrRbRug9m9Q6DAHIfdcs+utL5rw+4xgr5ev4LU0rFpARRrwNnidka3oBhzY7Xou4AAAATBBm3VJqEFsmUwIb//+p4QAAAMCf8y7TBNwuPG7e524d0MrnwAOokF3KYiACN831GNKtKJO41fj+1WKFK0eqWlstTzuywq987mQebl84z73eP7EgfQ6QygjaUTGUGpQXbgVexWzvnWf1E//V8uiGc18G2n6e4xaeVTbwVb0uh7EgGqw0xtX7mVetbQbKvtxw3EwdwyKISest2OAL4nbgLDBJUsx2iD/H/2WYWjIK6fMxhOZfpkbcjzCcv6GPv1xZJvhfM9iso42z7MK3sA1DkXX7lW8/Mt/+MBGB6RKn2jwIMXpmG+pp+PH4OADbnD0XuEAek6wJ5ZydHPb93I02wFFDJFzpHStUSPD61ka43UbANBUeffGT0xRkfkWvQoJ3xJDaYlSyhmz3mvB8t86KKoJAAAAykGfk0UVLCv/AJsGZCmEiCYW2Epnccn4qdmg5zW6EuRLRDoCKL4rJ5dkE03rasLuXKc0LAYAjI4LcW6BDx6PNI2oK4Kb2PHJC+kBV2WjhSWauVBTH7UfPsJKx31lLibE+NniBoJHaEvJm6jMHXBSg/7VEYyn+tlzi48IM+WR9qUYGiCtXU4lSoWvwZql/S++17y1Cj20110biVXbi/aslUKdWO/DrjCSYkhGP4HuZlBOg46ArCt9Pyw7P0P05V2D89z0EHrV+iLBDScAAACgAZ+ydEJ/AAGH846Cy8f1BTzUq5KDHq8arMPxu851SBCsMsoArTXiA5idSJ6wXp4fj4x0BKR1WaSSwip34RcXEiSoNjyBKzdmQa2FKWOlSHCAq38eRP4ezlmQqx+9OVf+Q/tZMQVKZekAU4stPRF2dXyTpPklF5iroe06E54IgEaKfJFtNMWO9laVRpqtPzRklfI2fnit7RkO7DsrPcAKmAAAAM0Bn7RqQn8AAYh4zqmLzUakzkWdkn1DwQSe0ANVG6qzAfqY1hOzvsWU/f/rSr+eCs7Cl1yZbpFhobwPfBpYSLF+kQCNFs6VSZiV8rnW1yB8LBief6zY26/YMD0AAod+36trSWppxvTMfqAnceVwGct1J7ibwNhhbADSMhHKhtXlO0xmL3BY2FW6Qi1Br6jF1NxHSRdMweKsRowzNUO3bv5OParADSsRPHKzjS18sql3LwNamIAPnzzH/RrrgMtli0bF/6oD2rOGXr5OYBvRAAABRkGbuUmoQWyZTAhv//6nhAAAAwLnvh0AFh9tPqvPuJhf/mHEop6jrCpxzuBtDOdwA/17R+ygBs9mddFERZFqygSDR4x5IcqdEKAvMZC18nok9het0jBthx5d1zYh7lNJTdPwFXiBPv9Q+SAsmlV/3ktThEnwG0jmLq2qFfkF8mYQArApMjXF08T7Nq+nJzTPGnKi+934MuCnLk+j9Xa2j1qUU2r63hMx07dOEiLzhnddJiG7KTHk65Nz380RIHQA+kcatcOBfsTSpEoqQLOaDFQXncBvDAbTkkrzn9oFsE/sirwRGoV82JEdk+HGHIEKTtqqhEYKjRedM5xuwhCCMc1Uw2hXbe5nnQFHYDWtU5Ydsbhx2XGhxnWt0wkYLb5zTZGmLCe4yxL1yMFQ1VpVotSuw5MHNqPSCi7yB1LUv375NuRUcClJAAAA2kGf10UVLCv/AJsGZCmEiCYW2Epnccn4qdmg5zW6EuRLRFnG5k5l3HZAEPHcWNf6D6WzUNyP/x/gYqeH+n7oUhZ5TPo320Ck1KKamvP4GTgv5eR+BDgxueP7UooLg3wgvvLEANMY17+3GIdqttJXXdAzxPq6/RpOGS4J7cfgdwJzJfgRNJgORHh4OAovig4+cJEPZXp6UgBTK4pI8Mj8A09fpkqg/oPlCCX9DLrGJZJI/WRoe9RPKPsHUoAp1ZPArcD02jOKh9Kb3x1zrGsZ8tsV2xONAGOz4L2BAAAArAGf9nRCfwABh/OOgsvH9QU81KuShNOk6p8smACKjMQHLTYuiit1wnYe0W74u7QWIX+fpAuQSRhXwaF9ioEilrNffN+LqBKCifiBhIcP1oXpY9D+yVx/6Tjgl1euWzi3KXzAm9hs+f4wUpZf+lcY71qFn6VLVtqsfpopdBUEwQKCBmxlZQGiD/h5Az60QLd5iLTzNYgfqWqNo+Z0nZE69Sh/hk9jTqQvCVxwBqUAAACZAZ/4akJ/AAGIeM6pi81GpM5FnZKBjqa4oAtZyY+pH/QJ2/BOzcjAbWoqbWpjnBsCxJziHzylOJg7t0uV9S9s1hSQesdv1v6EsdiNYHhFdzxut+A+0RukwVcOCHg5IA2fHB8p23qL+U+C4jkEhyyMaMpObhBOfr2ZAroJyujPFDxCwUmOheKTmQhKSHfWtrXhzysWSyfjqiHgAAABE0Gb/UmoQWyZTAhv//6nhAAAAwLr7wn7HhHc/mdWQByzwK5ucT1nHV5PWofReeyzowXBdwh7ByV780QcdZrIADFz/mKlrF+dR/sPWqDBnp9/2F6yEregFCGURYtJuyhanqLxmlYCZaumOXP5sFAzgpveaDNKBVQB5VTfuGdC4Oui5mYKymVu8iqJRMdmLGaYRcdRfKYsPyBFI9fJ49ivKbFBacxxd49VCfHB4cT5lY37QSg7dB/VEJFVdKz1+ZgroBkjWQedz3OzAkI7O3/y/y+dmAmvDzey1sQRGry+alaP58QAhiquEUmdmJT0bSh4wg9cigymuWzMrDKRuava8Pd+7Jp7T+Vs0W1L9dHCegTTNmcdAAAAxUGeG0UVLCv/AJsGZCmEiCYW2Epnccn4qdmg5zW6EuRLRFo/ikhi/fqLx21emFABLHP2YWjD+noP4urJAG1mdtI7pz+gQVnabTEb+vIO5BRfD9DSVcavBn8GgazuPk3FABKR0K7NiFmiPR0FZWpsoyZvf5Eb+F7Ct9lFe/ecLS3/MlRTqpWqirfvyyHCyq+zsclJpj+CSwfdL9XhpDr7oPFgYZgko5oauPwNQo0CXkM5+K+DcpQ2sum+kEtPwKI2uJZl8jAgAAAApAGeOnRCfwABh/OOgsvH9QU81KuShj1JVdNaRLrsKPACZc37PFSXZO6PI1cgxO8qVslBPkYZ2vwER/mrulnkfDpJLfoc7kXQuf1Or2tmjjvLpRQ1NfQrfX72NefL1mcOJhALo9chdzrlCoBjrWo46GvAueDfMOrMv6fEDiiJ5qdhMSjzubttSwBXBdjTb3miidTmSOz8ncAohB046MXZacGWgC7hAAAAhQGePGpCfwABiHjOqYvNRqTORZ2SfUTdYSOfcpRJFcAHHoJ3QCiAgoef6splOHHYWbyKNwR01ZGpra5CoAqm/DyBJ+TFwHLa9LuggkJsFT22DHnFBG6lMQE3x8+occvJm0V6AJg9dvCcfKrypZNW5y1WOWnszz8dW+Q6nsJ5Vhcp2XQEgS8AAADSQZohSahBbJlMCG///qeEAAADAO0cDRXAaQmY+BQV7rmQsMU3sKPuMfyj2+X/O9dw3aoBFa/nmnhE0Ay67pDQnf3UCAdmRcHpduGxICVXgcUhjrPVa6Bpxt0vxakB9xMbkzdndCgWFwhgRMTbB+F/DpO6pBSQdJcjpF07oVOjl28u/zhMmUX2rt/IAKpmezbmZcLE2ZCdf1ZoDDZ/D7CFInwikEW8CmgaNwSf4a799ko+Vy1CHVpSZ06mjNQF/xEby64lVG7tquZNSXR4swtnzLPyAAAA2EGeX0UVLCv/AJsGZCmEiCYW2Epnccn4qdmg5zW6EuRLRDRaHiEW4ZgAJ4ygWQYNj1IPDOdEGkeipoDR3zGTucEdd41N17BmcxWd4VGo04Dljrha2uyByjIbXeubTGG1rz27fPUHGGW5btefxI5ERg0WLxRUGxaw+wMkmkT8fQlasXRWwOIHwXKXWuaXUPLxefpaAyV3hqlYqD3QGGFyI4YWj+B4EcqI9Gpefa1JiZ8h9UdBK+XAaAwFCz+a2DV+MYFw2h5bXscV2f9Jx+ff/UMUggNWXAA8YAAAAI4Bnn50Qn8AAYfzjoLLx/UFPNSrknUxbzobmeuffx6wCFVy24bL/rsbkek++lv02pcYpHQhzqIbzCYmvMnhmNAFvx9QdgPBTeGNq0UWXUhKUY6ER7AR+agFGrLU85bRpl82qxq+WsgWkFm3h0Se9etLeuyVrJSpsbKJdYTdlk8CRNfbxJkrv02OubFSiM+BAAAAXAGeYGpCfwABiHjOqYvNRqTORZ2SfUTcmI/tS/IriAZt0ftkfA0x/Vsa+uAAnTAJaZSLnPP3X5ALBPNGNYmLi8QnAJ6lxjHt06Lx1rNBnprhJKsIQ3uGwKjvqUP8AAAAqEGaZUmoQWyZTAhv//6nhAAAAwDucJ5msC7uHxqWfflBdiAHA/5RG/HShSf5XMkcJ6W3RGhJV1wU+OYsg8RjjO4Rs6vz9lzp8cyCNC6Dhky1u2JqLApDcLkav9x+VsDMcj51dOnf4uaVqoyhbSRCO5mXNAMNeI8uE/0H2ktVqO7wkcOzbtneQrnG+Fq6pjA5ZiS7JPpmQLrSaf8Sgi24SX4Q6SoLCcPVJQAAAKhBnoNFFSwr/wCbBmQphIgmFthKZ3HJ+KnZoOc1uhLkS0Q0Wh/xvsVGRL56wuL61ADUrlm63vs/EzFJok6MbNK5no1Nd0XAdT5s6JQrTooZTJQJFv6Rf9sLPtd++ISbmD01APfvDznwRpMsLGfXmReGxGv4tFXQqsZFv2htMA8mdqq3MFjOi64vivybjR6KhIA5LBUkm8numkWf36wYfIcHcTn2UNwcY0AAAABxAZ6idEJ/AAGH846Cy8f1BTzUq5J1MWthUltrIGSoy6hB3nvUgBXVl3KpjPQTh7XgG349ik9H/LwfCQ0SBnlQdqHj4Sl9shVPr/OGwAaZi0u/DwzFQfUFB3//vWpTgdXsiRCU2hQIp0kg80ezLhuAS8EAAACFAZ6kakJ/AAGIeM6pi81GpM5FnZJ9RNxvHgxkmey8CpNNp4E+e4GywAH7pdvQPeVsQuBxVIOCvQHj+KAX61c2ceX6GgYHlkOPOoE0PiBGnezBxlpLB9UbyQIu7Yohm8rpTrAMGkEvVR/td5D6gyDoyF5jgK8dhsUzpXYg7wCgy4AVV1BiwQAAAPxBmqlJqEFsmUwIb//+p4QAAAMAWrzhquP6rGZmNrw+gP+PoATJEhjIbQUtEw9lVx20dTXnZKAWwLDjgYCshWHFGH4rTc+rGOupWHYFShNHNeabVlYTwP3BeCewfEK3y5ZMViwVSt91usImtGf6DvvMmjXtk3hSJ7PJaGPkj3dpFDJoARcnL7iD/WEOUkEdYRWda16FfFQlVzc63snY0zM3rZYCYYELu4T5Gn5QCO7SRc5FHySJaZN13Hj0FWLYCBHPha55TcnLEyUwCoBrllamXLuy3L0USGu9wZUZL6SL73QWjgFsd6Yi4hX3I0rqs1ssirMomW9Hg74pfekAAACjQZ7HRRUsK/8AmwZkKYSIJhbYSmdxyfip2aDnNboS5EtENFodoOK7vRptxYpFWrQ4egFGd6NhVGdAY3jqVNTHrbTVHlcs/+J0DzIdDTdl32FO8V2DvEsPdTdZbs6JKHhCZymUGuStTr5oPFv8eV4MktXK9a6yP+b8ie3YCxMSYI5BCYnHv+HILN7A/pyQknavw931pXa6Q9BYHw5aUn/mtuATcQAAAHUBnuZ0Qn8AAYfzjoLLx/UFPNSrknUxadBw8eA9KHvj2zbsWdf7HxgAX3oRQ10kgLh8SvNCaYmHutvchDCE71MChar/DafkRCgdtkkO+WNsqbwCANCnGFl965JnFyN5yD1+wKEsbOno+eOK3OB7Kp4rAXksBMwAAACUAZ7oakJ/AAGIeM6pi81GpM5FnZJ9RNxvHf32W/3EvoABMZ+s/FnwpqjGfRS4nlJ+FtpD+Ra036aJe7lVvNSrYYgE8LmLY2/KnHJjN4matxG84yXrRDztyxhhM0ENKb/ntM1anFamaQvS/BDUxHtog1RYM9h1ZTYM6zRprK07LjmmhAM0vgXgdv3GFPWcjUrKMERRswAAANJBmu1JqEFsmUwIb//+p4QAAAMAWqNfG7Du0gCruInYgHS9GXZVzcQhggQF3y+UE6qicl1lhK7uHjFbkHW4n20imnKT86QvyszlJDfN8z0SjTpAKEstemLOvap3/IhlIr83vUW6xi4YTI4vZ7wb7h3bavMrbxShqCTXygXosnwRb3/yjAw9Kp8WhhD3HyrgVPVBRVOjaXFxK9wAtc5qB46VFhEkasP7pmDnRBjQdQp9tAjM9yyz1LmVtjPv/98wcqiWCN+IoNKMVJy4jEqutU7LKSEAAACfQZ8LRRUsK/8AmwZkKYSIJhbYSmdxyfip2aDnNboS5EtENFodoOMP/wI0ALCk111J6L9ihvxNVHinznR2KkHKfSmSoz4EDTKmwrdqepA5rh9o2v/X06vNaeuNL2SFJUCw8tk/OfAHQ4dqbb4GdHu67unTj/lobgeGUxj0ueR2adO/hmSFRjFs86wkP2SDO9RzShqnojtQ4oh2ptusOWbMAAAAbAGfKnRCfwABh/OOgsvH9QU81KuSdTFkMS+buR5CUURBR39CkXaCwNFgZvValAowA49BO44rZcXDQlNeEK3SpCq9oZWYwAIL04zdhrno+wy9RU6cfdowtX48z1v6cssNGpyApAfGs9w8mwCXgAAAAJ0BnyxqQn8AAYh4zqmLzUakzkWdkn1E26w6PK6lEmbbcmawXcKUTVoxsqeCoatWgp48YATLjvTWZe8BYTdXFX/rhJGiQT2ziNDPCTIDSzS3wJAX/sIAkEJrsRNMP2Qz+U1EykgTLqO/PLwXyQTpFy2O6aT1p7HzyKVjon9luogLnDtiYfoFrhMpBjeDvz60WNx/LRxABUWbFgs1wB8xAAAAu0GbMUmoQWyZTAhv//6nhAAAAwDucJ5oTjAiwZUjP1U6LJzEmjv8UAAI6uL83beACoOU1NAokTkhP7xscrBQtMgXCKs3R7tm0ACqPWnQfzo9HxDRca50VZHWJhrKaicaCBgFSoGuDFwwkBesBau5/NSyp4CbXJC41lKmkelXTZKOH4DycZrs9VeqvvWG2c2UWxJ5m+bzafVmmhdrmJms4oNLUjRFT6V65ecHmoW6gYoIwLBpU0Q810po4lUAAAC2QZ9PRRUsK/8AmwZkKYSIJhbYSmdxyfip2aDnNboS5EtENFoetUIU1fSuAGoClCdVu48cAVoAg1Owjrh8casUVISo8UnWzdzSZCC2VwLkUBrZ92Dt7mebauQ5cYQH5y1nkfQ7WoymQ6KX/sqdB/lz3AuDckDjnQBaA7cT9QbXCToz7n8RHjaMqsqFzLty63AzuhvIvmIGiH210dEkYDzpcjQXxcVdQSfLvRfQJW/wZQSvb80Dwb0AAACXAZ9udEJ/AAGH846Cy8f1BTzUq5J1MWnQcN4uBME+s2sAHHgHUNeVCS/tKsLQdZgQHQEfgWT6McnWUxYdvmYgs9dt0bGX0OGyksbOr1t21zBkR6mLEplekJ2xk+MM+3bDTD2EaqT17W049f261z+GWQyD9Qf7BwLtCCipKeP1rMejCaWzpc6WBO666subCmmrT2dufRgCXgAAAKABn3BqQn8AAYh4zqmLzUakzkWdkn1EymXTxqH6tuFDxjVZupUuS6eHxx3Q5cojSmeAAX3oSzka9tHrFuJexx4vnDSiuqa2uFvr8kIhoRlUB3egGSmuFWyD3fuHGUSuRe1jrlgPfnnHAja+Pou5yBbWVPkYqPslSAY9/rSXfNtG5dEnxZXJZx7GILJJGafQNjwkYfU9xmluuM3gTpAlkjKgAAAA9EGbdUmoQWyZTAhv//6nhAAAAwBavSTzIArHQGKUiathCbVagrXgsuP88I9ZMDd7Ig+rvDkEUGoTDLPboVeG8Rxgxoq7HUFW/YhkKHsmAv/egQKEMyFOr76A35gwXWNrmDczmmFiYgeHIcyPfBbQiBsLFdOzK99UDyS2kt5Ha4yVtGUv3eghRnT0Qgbh9sUspIzxt9PUFyRd7KymIscfJbmCii058PuSS/PU2eEGvmV/ZC63R6jWr78ALbsmSWjMnxBlH2iqfsHZUrZYRwo61ofu9lR6Bw1/XNwdwtSBj+kROynG8fn0lRjgxEtINigto39444EAAACRQZ+TRRUsK/8AmwZkKYSIJhbYSmdxyfip2aDnNboS5EtENFoShRYUwG8gtfuTJDpRdXPfbAJtACaZzWzaIVs0SmJB4+r6+GSq5qWfVrC+sNg0V6O2xx7JZmyFzab+Tcr65rr2Ms1xAcvZ2nDzdDDb75zbJRhTF+7nk5X4SEzsUY2iMYO7MdHIx1rxSF6dRt8b0AAAAFwBn7J0Qn8AAYfzjoLLx/UFPNSrknUxEYrrf/CHSNS5hhVKaRjK/f4fg7pXLoMz3nAAe7xXMvI4OPFvL1ekPTpaRQrpYgB1vRMUZK03huWvU9r905ihcIHuscBBwAAAAGsBn7RqQn8AAYh4zqmLzUakzkWdkn1EymXkEZE5IZ6mPn3CADt96wVfRipQO4Y2zX103pdVJ0hIKl/8rmUbUxBjxmsBqNKSRnGj11MQhnFdt259Nk3bTDO4RXycqCVVFklpoaNUYTl8sxwCXwAAANpBm7lJqEFsmUwIb//+p4QAAAMAWrzTCtUShVLicyzGcP0YAV2TxkUe3moq3LE7wlP6JNSDLuMKaXac+RZcyTHgyGHvwjHmGxj3uTjjs6YzdQ8kqW86lfahEVx3Zp5BChckm+2Q2wT9MPauJrKbH+lhq28RHkIatJVvm+tGd9Wt/usuS2eYcX8qAsiOGGrgg64JVX0iO5AV2Ay5syCPUY6wjHsuWi1u2x2K8+hL+tNSxZMY0FDsorwIJ++lYTPgXx+r38dvHxMA/4KYq8VxHIvzGJrbmQLt1wGAPgAAAKhBn9dFFSwr/wCbBmQphIgmFthKZ3HJ+KnZoOc1uhLkS0Q0WhKFGe9J0goASbmTDzHuT3XOI+2u9PDmAeD+zwau3dTSf5wfpf3UvgTU0c5HspkpEKvsO9bXSiz+gjGLBDKXjAU8B3esyVHg/Hid/rU/wAS7IFb1zxTWQaUQx+nv8b9I6hTI68wb97x+0CY/QDRp6CUepDhOX1x00449IHWTm9mfwVtANqEAAABrAZ/2dEJ/AAGH846Cy8f1BTzUq5J1MRGK1YOj7c0ADYT5ABwALpYsk/J7MKO7LZSHreCgDSQmvCGvGGg6+a+sS78vH2CpvHpRILwD+Lzp66Fka798w2hM2fOYultYocez/LN1HSLExEfA7oEAAACeAZ/4akJ/AAGIeM6pi81GpM5FnZJ9RMpl3hXrACLQRDKXIlBv41slmTrs6IsJZcusT886JRQbeILOu4DYMthLLKfXzeb/G3cIXzlZXyh5EHXOowgdVo6ChnQB9sudHPF4Guo57T9Cg3URHeDblW/tCL5Yo45VDHQKxh4qbgdpzJ7RdxwZ+DA2Hs68yB92WgSg9xnALmS5/kELN/WAAoIAAAETQZv9SahBbJlMCG///qeEAAADAFs/o+jFVAX9BXI8d4AP/mjwjESBu7N6qr2tt6x6uglgkHGHXkmbv81Yf2atdiWt9MKC2ET/jnqAIzwbC3+Mf6clBhgBY6ksnpW2QIo1AtUrXkf2N/DKLDuLTg6GnHWEbti1XNC4+Kus2nD3Dk8VDnqxovF5u9G3vk0EJEe1Z4RIpcbzDuHGUzysk04UH1jBp1GVf48m3x8e8Zi7N2ETnKdn4w0XcKTNEXCFbSq8hH5BLk99O5/DrNaVh07D+p2YysHNI1NQG8MlR9kWLFZptKCesqu1EQB/0RHMW4qJwIfXX0iYuy8RS6rhULFaaGfwCkNLaEAlLY2/Hk8W3AUsq2EAAACfQZ4bRRUsK/8AmwZkKYSIJhbYSmdxyfip2aDnNboS5EtENFoShRnvhCvQnkO3bd9FQKrhluss9AESDU3yfR5kkZ2Z2r3bwCCewWLl4f9fuldSjzUQ3nIXyowQgzJrp++5ysvRY+Yt+2ok3US6oLHCsXVkt/F1Z4sqOF/giMIhEnWtmOwTti7L3jZkXdfskuW+pfyoxP/3CA8ni8IFNQYUAAAAdgGeOnRCfwABh/OOgsvH9QU81KuSdTERiu49JtL6T1nfdo+3kVL2FwAH7gTq14MfWWQFjkfFi6b3LkUw33yFb1iajqCadCuGJpQ6khrmHScLuJOsUKCmIH7E93jt2x0VuKJ4Z+B6nhq966Y/SHnJTJQArWgACpkAAACvAZ48akJ/AAGIeM6pi81GpM5FnZJ9RMpl4uAc9A9m44AOkdNt8UjtL5X9DrGwbfvswm39qPCtGktT8MfvQD9mJw2y3haoJHhNFK+Dbwwp2hXR+1jk1qaveKKk1aSEjd0oRYs3+qI5Nyas47xeloLXJQERdDkaAmWuAX7Ud/XEcWdBM7bvSqWX3GH7Pc1NQxqDTD3SsCF9ByepwZhz+ceiTzmiCk58mQ5EhTjK9sGBeQAAAQBBmiFJqEFsmUwIb//+p4QAAAMAIatCJ3pEAK/eWHyI+BJE61Za3XkrVfIceC5dXT2w0O5f/cJl1FczFXBj9vpCuUEjGFjKCu1/UYPoUG3/Q09jOzRkLUcFMaeetkyC38oMzYTB7rgfQ3nM3D4IGcM2fr6TGptKqoaPPyFwh5StHfDRYpQC/BADKJ33a2oi7koT+UVYvcrJZwaRszqJjqbXqH/m427/Aq41UpudThnha3Nl509T3YHLhu2uoaGa4V7b5dS8fmslxhT5Ib/97UrdQEpyUHX7Ng6Kfs5W/kZuFwhcmBQStNeM08fm1aMupDAe7+E37wZRHCd6Um9SadSQAAAAqEGeX0UVLCv/AJsGZCmEiCYW2Epnccn4qdmg5zW6EuRLRDRaEoUUzbiK6oxHiQnwxqwAXCpDxRmIrW7HPl3Tq5Gt4t/QGBUZT/4V3xSzX8h8Z8F5HDH1vcesUtxY2q4acP/QvbPzxTiCdlT02UPMtCzGLQb9p5gwDsAJPjM0t6GktgbkB/B+F2ro+y6xRMviNthQn6mhpilv8G7PL0CRINm13P+/7N4ccAAAAGYBnn50Qn8AAYfzjoLLx/UFPNSrknUxEYmOqRd7F/QACU5ruhfFxFejZYNgdHO+lTNnZtAJw22H2Mje8bvcXG9Jh2QFBM0J77xhy6pZ/LBm2aqEy4kfVfqac2rajxHCOAT8ytkwOOEAAAB4AZ5gakJ/AAGIeM6pi81GpM5FnZJ9RMpl3E1afrszxuJIfpKWagA+Dmtn6LzGnMOykC36DQYEQHMYhMfA9WFLIWNzZ0XnWZXeB+KiJVya0pHoxEoRJSb/WHQF4djukLQsC7GPinYvNZnWTGivceyjZEAPCxZgigOOAAAA00GaZUmoQWyZTAhv//6nhAAAAwBWuZdqK+RNSIAg3Oqj1t71VwZRvE5Pbb9pzVStewAYyi0OQ3O98bkWrK0XQSRRCoNBq0Q/riYWCRPqEDxLBQdc5Phie+isTQMOD89y7gW6U06wZ5HNZfdTRMrkw+plNJfnXo4fQIQAhUpgbHxWPIQp+mxSVotiwzBflOKKruPEoIyFwXxnzmqzbPQ8tuXIpI3grvBCFUgmoLHYeEgEG8OGReCMSe8gvi9m3WpkFOqTIU+Uy7PawzdFCV50Jv+UhhcAAACRQZ6DRRUsK/8AmwZkKYSIJhbYSmdxyfip2aDnNboS5EtENFoShQ3A3k3AAfeKDPv8DmAEqS5dg05+BCn4/3/Z+CIFXshwlRWJ+yHiXFlUi0f6pmhYq7Io/P8WS4PF8tPOHbuVJVtnw3ImiZkQCkv+sAVG8dQsw/DyLtADdQlaC+0bcOCghSuPl6Qo3fnmh93pgQAAAI8BnqJ0Qn8AAYfzjoLLx/UFPNSrknUxEYybQAIUysaPBeXlcALZ29hc4S5wosrk2UP+YEwWwuWAXHw9zWsRuhqtmyubsrX5WtuSTod035S2PzVSFIvzvqTu+xfzMg6izrZIZDJJwoFHaDbnXotNgrRHejXaqTQAdB+ImuZ7X/+uTaNfVJmv4MRmvmmXEbgFtQAAAGoBnqRqQn8AAYh4zqmLzUakzkWdkn1EymYiAqDQr5MQAfoFYgfCq9SbL/lytS6Iqa9iPKXczyjGg0Rj3MZl2v+n4pdM2XR/wjYy8OVUkP1M1PGbCvBIFlhEynt57Ux2AFW5eX8vhU/4ceMbAAAA9EGaqUmoQWyZTAhv//6nhAAAAwAlq2niWJl8ACvB3Hyf3kQXOPkSaMrbH4aQ3q9Az06eHzjn2NLjHHb3e3dVTnRyN6tBNDjd1viZdZ+3UlUSF2oq8tX6iDLmeCfVbu2N75cQOM8nJeY19GZXXStUmACkvtGko81giKqC3tDkdqrtLZfe0zcJzwcaJHSevffvq1dn12SWuHumdTrfzzlyNPKcBYrPRCgWPAxRN5aclLxWbtJQVl166Ww/R9fXKNKE5sYBXSuZauOb3tEAi17MF8cgUKHGnEevXiqYXxMCu1o8eJo7KXtbCdFgqZRyAnKgAsm4aVUAAACDQZ7HRRUsK/8AmwZkKYSIJhbYSmdxyfip2aDnNboS5EtENFoShKoPEK4oAIkxu7v+XamQ5PEHa0F2EW0lxJnb5LGr2ci6XZwV7V86FKed/P6CEKbxncFBVQSCAlXyqmT+X/Bx92lZJGPbJaxmRgH5CEkvqy50B/nC2QzI0pxvGiEkApMAAABnAZ7mdEJ/AAGH846Cy8f1BTzUq5J1MRFymgr+SAAoDPaii7vyAp3im3WZmGPt1CpL3S84C6X17qw1RbsW7pe+saDHOuLtCfGZBLj1vZ6v8FVy8lcTx3RAoY9BOTQPUo/XsTIp7JMGzAAAAFcBnuhqQn8AAYh4zqmLzUakzkWdkn1EymKs55/6T5yPon6ASMjlv6SrZq9tcAEpLJqHtQWBLhgAo1jf1Qk9kMUzDEsTfiRjgk+3GBhXbbUqQPEePtOAdUAAAAEMQZrtSahBbJlMCG///qeEAAADACHSmkPVwRIAtj6SLJYq49/hL0TQaxxbF7wMZrWOcqluIy3JmQvaVPIbc2npb92nbJC2bp/qjqr4a8YPq+IOeITPN0zXyrehAWKfrDTsGZSg0HZqmDXNU1YQRq70kKc5dE/uokLPzA/KfWTlb/LI7/y6fyAFYeYQXD5fja5w/Mz+BNZ+n4gKKWeNAwXAGRJFMlpiE1JVJYVPl2rN+HiCrNrTniX7+70AVFQpAC2zbPYJmlwD+b4vqzD5z9G6JuxfL4HN+b9nUQnJfhBZWw9ZvfcsWB44SOU3H/rlRwmt9muv+wByGzOkxgWJRblIF4XnMOgP9Tf/gGykgQAAAJVBnwtFFSwr/wCbBmQphIgmFthKZ3HJ+KnZoOc1uhLkS0Q0WhKEqgtMIw0G/u+4BDohrR3ywk++nHAAXbtMeeWvUdgATtAHrw48CeQf/3xxIFR32VywcQ2AdArA7wKnhTvpFi9ny9zC/WYRv7RQb8G74dG1JsK0g5rVwyf2oqS71fbVEeci7K8WIlpT69rdWciMC58DPgAAAG8Bnyp0Qn8AAYfzjoLLx/UFPNSrknUxEXGuKZrr3Gl5quaRACdt6z6x1weMw9PFxpGoRc8drdZzZZEc5X/u2883nv0KUaa3xFljN/QDD4rL9EKE4gBzraeAsX0YUoRET6P8FnWho9fMSpchfYsgUEAAAABvAZ8sakJ/AAGIeM6pi81GpM5FnZJ9RMpijGs2gD9tyesOAA/EhLbBO2tcBOtSCy3Bskj2Z1gG/szjtX8dCAfEI012v2o7rJtURjc1u90/6vaw0o8A5XNHVYPtpbMtheEJPncBWbFeVXXD6rWjAB1RAAAA80GbMUmoQWyZTAhv//6nhAAAAwAhzrZFfemIAJ1zoPgM153mBXT7hAU0rtNGPsL4bA44iIaT060jW5wvkJCYuQFXCgUzIO2RjF0zx2dzW7SyBHMiwyg0eFZMDfg13hkI0CGAfU7l2rir27TLjGxH0uKtz3heToK/yajHMGmSumCF+YVrEqtM4roJ+CMRccgzB503q9AKJHmzaRvxACFXbRM5xkDF1PD8peqqNexeoUhrqrueQXOfuLV0XQdd9FP3WETLRTLGU17LhXzLY7gyxOwJH/DyO5jZGCm9bd6a4IvbO6AtzgK3N9FPv5S92E28uGWVbQAAAIJBn09FFSwr/wCbBmQphIgmFthKZ3HJ+KnZoOc1uhLkS0Q0WhKEqguF1kbYt2S76O/AA4qK7W9kNmCoW2YS3jdK3AHHvl6B/JB6fZY/Tt8fQ34HRMmLQ6fz001RP819D2hZuXzHCJvBoFNAdbK7s1sc58ocOyFckGUw0OEw+/4R8NSBAAAAaAGfbnRCfwABh/OOgsvH9QU81KuSdTERcaUQFwGxroxPR+ojFEZokwESoXielFnFk+XwAnWPDQ7SmkUGezyJl9syorQPWyZLgSXMF8OiQFo1MqoeGnidlpygsD9JfnPr0tCR0k0vJGfAAAAAWwGfcGpCfwABiHjOqYvNRqTORZ2SfUTKYoxpglNIbULJsK/JoATJCpS34R/UpnkxQ+CelStkmHJ/n6jZSaJpfX//anuCz2L7v2sEZVKTPcVetcdlA1iPPaMAccAAAADHQZt1SahBbJlMCG///qeEAAADACGqwlNMJDdABQigOr1w+WxtS6NT4sfV2YueqEutN7lVerPaT2pozhsfqzI8Yx9pBsJEcCh3aowHnSqDm3VFNVZToAbxC0KK1NlsNfw7FdzNPgGH65ZMs3caKJ7KMJPO7PE8dRf1h3HwAZIElw3tVBCkDxSX01pckwkzP7vJNS+uPgO4rWwtc/FYfgEWUqkAB8GvqsRb01kJs8rvQiMIx7Vg93CH+1eRDZJaaSOFg80/rkorYQAAAGdBn5NFFSwr/wCbBmQphIgmFthKZ3HJ+KnZoOc1uhLkS0Q0WhKEqguDjDSrADfUMY5fft5xnxgjai/zvW1b1fH58GrrHNMfO+JNF+8/gJLf0aOQfPEjEHlzYKaRRCv6NcmWuGZNJcTcAAAARAGfsnRCfwABh/OOgsvH9QU81KuSdTERbhtI/EcAE7dv3nA470yZ3wtV6/YlBipvWNLNfrcoeDUOIqZTtVr4NwnFYA+YAAAAUAGftGpCfwABiHjOqYvNRqTORZ2SfUTKYoxpNs6j8pPwSiu/P4IIoIAATqXDpfXydd1cA+if6vJwnLJmkKYLG5eodwf+aaBYBN4eD4MDKQHpAAAAsUGbuUmoQWyZTAhv//6nhAAAAwAhqsJkHAJqkRGprYcFD8CUyB/qJye4Xp6sFjtUKWeeHC/O62YiSH9bWJcaFKKNGRGu5mbqoq/AIpILKvcVU8L2pEdfyuBVIslKH3fAxfS8KRnbtnF8QLFxKO4wXPlD1V48FYCb0hQnkwzmDwPVtnvBQUjKJU9Gqx3vJE51flzfLIWp+Z4dvne3UJPiqy6Zdulaj/OEpT3IaVSOC0kmfAAAAGVBn9dFFSwr/wCbBmQphIgmFthKZ3HJ+KnZoOc1uhLkS0Q0WhKEqgtazqmcAZL4LQKn51E6D5Zrto/Qc+T1ACAm7fOHmD9VYa4Ztz0B6iV7c1RBEcpCdCO11fQTfTJwH+Efx6AUkQAAAFIBn/Z0Qn8AAYfzjoLLx/UFPNSrknUxEXGluXsKKtMeW0VyIAJq8r3+s/YQGvUgUlQuAIt7KWQaDDGVSkz55UaV9ZCTfmMku0dxcOnhGo+7gBBxAAAAUQGf+GpCfwABiHjOqYvNRqTORZ2SfUTKYo2219tmplpiRttNjbuAEwKWud8UUNEVRTL/OJ64dEZTh2YpJlTv/0ha40qQjpSFrGB8ZogW/wA+YAAAAMRBm/1JqEFsmUwIb//+p4QAAAMAIZz/cWswBGnYt3M1vTTN3jBAvM5XSF8J5vrfYhbc0Up+Dd9HGLLYWCZLFUgc2V4sy/Dt8i6p2iD1RCNRQxoggmAtql3qbLVPy0q1ghqknebjUcDMhx7cYANQaAtp4FH6tibusSg7q/9s7Rut1qW1xVlDOj8vAgu210CIB3EWbBXUs6ubRK30OYYWZBdy9qR4syga57ZnF998+ofY/sZWlMPd/S4062wVFDea47WNo0DBAAAAZ0GeG0UVLCv/AJsGZCmEiCYW2Epnccn4qdmg5zW6EuRLRDRaEoSqCz5MCqQo4TLgAOK1AK6+DrOaXrYAW8dDXnnLzUvQONx441I9LjwxOEUFTTX4wWCETBXHAlfrvzZRTgJj3fkYA+YAAABoAZ46dEJ/AAGH846Cy8f1BTzUq5J1MRFxrjGRQ/ycZBH89WI6v2IRDpbnj/4NoAO0OmCMvEReEtGuDCSTeEzfCh7ZkMfRGRD8sTZ3KJi2ZGFeLXUXFjn1ALR9F3WPKTxS9LSpkQEsTcEAAABvAZ48akJ/AAGIeM6pi81GpM5FnZJ9RMpih4Dq6WjJD7Ojo6ST7k1cewAlkph49VeIYCLD030qM20/gUEWuZwEUXBoCsi3AF1cHfWrrmzfDutlu5s3Mo2quhpIH4+ePREga9VqhuSAEYrAWb/bvAZ9AAAAakGaIUmoQWyZTAhv//6nhAAAAwAhqCI7emfejGwG9toARlcLJyI2m6bLgGl9Ynk4eSE2YDYpRw79D49DeQm0bHVIwXdyyMT1h10dpLWOYW1Xv6myyEfhugfiYH8I3CIRBo9MweYTi2+Tl5AAAABwQZ5fRRUsK/8AmwZkKYSIJhbYSmdxyfip2aDnNboS5EtENFoShKoLXIrSmYwAzv7j0nesvnf2j3w/23KGzKL7cn7KtlAgqC7BZzL8e3PkIZO3QLm0nMxTJjyM4G8LzFvvVKFe7a/v9w+hx6XymGXEfAAAAFgBnn50Qn8AAYfzjoLLx/UFPNSrknUxEXGDG4kvCIbTFZHsY0pLvz/+oAPIuiRAIkS7GCjybHvyHosvO+S7r4o16AaIoa6Rz3rOEbng2Es55Sta26ergBsxAAAAfwGeYGpCfwABiHjOqYvNRqTORZ2SfUTKYnH47QAoNn8bjWexBd1VSyYqVTUIgN20eDvNp/6CK7Rno0FiaP+WcDD1D5UYFxMqbwKzsX0EG08q52xPSk7NCFRDA86m/lTpeZMTgZOUJPIQaOv2gz1SmP9VRzO+3rpuWJiQV4rYCkgAAABVQZplSahBbJlMCG///qeEAAADACGoGeegD8sTKNzFmkbdp84q8509M8rglOnobvLffEDvjJD8FvC8t5Xv4ERZQaNlcIErpk3WzYTyYjgmYDJTaoTl5QAAAG9BnoNFFSwr/wCbBmQphIgmFthKZ3HJ+KnZoOc1uhLkS0Q0WhKEqgtYtUAHR8lGBhoTk9zPT9G18ncYfFHmWPQhEjZaLErglbL0rBbux78iM1DznLAFYCsbZJl4FwEzmspOezM4k8rr3S2SZYgXJOAAAABcAZ6idEJ/AAGH846Cy8f1BTzUq5J1MRFxrYV+8nrln6af1wAN0fBwEGnIb4Lx1aX5x/YV90hHeTAv/Et0AdjC2dAK5anLCJ82tmzkpubuDaZHLni0cgbxuVajAWUAAABTAZ6kakJ/AAGIeM6pi81GpM5FnZJ9RMpiDy0Un0FeV7S1JoATVkxplYjOPmZAtQy3Y3SPmv0vhmr28+gwWzrJ+cIZ5dHRwq2r+m0b8M/c/XxQ/IEAAABYQZqpSahBbJlMCG///qeEAAADACGqw3zADFn9N5e1MINDWoOlzmR9/a5twe1I3e/PtxS3xufWclhssYqYCjO7FGdC84oAF4VtYtMIWw45Qave/axzXbONAwAAAGdBnsdFFSwr/wCbBmQphIgmFthKZ3HJ+KnZoOc1uhLkS0Q0WhKEqgszBoQRxbnYJsttwAIGchBv3sY5z9re2CANnSUU72gYgZUkP8kEi00ZAuEV9cazOZLSwCYNIdfYgFYlyyOblD5hAAAAZAGe5nRCfwABh/OOgsvH9QU81KuSdTERbiT583kRsIQQr8sgAm06Lflczlai7tQMwcgpU/0Uc6QFld+Hk4MiiJ3PaFWUweRMadfCPhtFCKKqf56kfaqR7W2uLly7gG+j/YgA44AAAABLAZ7oakJ/AAGIeM6pi81GpM5FnZJ9RMpiDtSIaHK8HWSvU1TVIAD+cN2bHvTqKEk2fJUOI+bqB2FX2zWzrgmwRVeykr+yh3on4M+AAAAAeEGa6kmoQWyZTAhv//6nhAAAAwAh3Te0wTcLhruD1V2UkowBGr/IZLj1GfBwxrQ+L9dX1H4Zun+MIa4L82pYoSlbc+NQcze3m1t5qCL6GA1+778nmS5XYf3KBwWUChAst1tymQFY1yc9DsLZh4HcLXTAcCU1t0AljQAAAHdBmw5J4QpSZTAhv/6nhAAAAwAM3dajhhd03K4ZAEbrWSeJiYPcGtZeCf58WT9zla6dS2sbZjvcbet3Hc/Zdab+d3yPqM3ayqTQqTZw6hEaVsVIXcK/cMvUNGZqS/QuoTMu5sgrP5Cpa+poWd0kIjS3mqryY8OVsAAAAFhBnyxFNEwr/wCa+sS2MmPjFQO7e9wJvkE7IOkk/Z00gVbClU+8Lq8LxhV2Mea1AaF40fAAFs5rYuhl2llUC6JazccSJoK8xnkdOJ63htJFA6VhNf3uUQFlAAAARgGfS3RCfwABh/OOgsvH9QU81KuSdTERbgkHkw/99KXPpUqtv1SCWfkTKADmshSEWTqsVS7dcTbcQgxF8ZBqFnaTo+8IAtsAAAA4AZ9NakJ/AAGIeM6pi81GpM5FnZJ9RMpiAP31L9qaC8hH8feGcAC6yBzDw1ITv+mQtpSuP3gAGDEAAACMQZtSSahBaJlMCG///qeEAAADAAzdLJOYo4AoRTR6+QRqFxCJCERJRJbl2Oke1mQ9ZewucVAmVmeLjk8c9gF7PcDWz0o4GUQgnYLJSYlQbV3t2Qw1Zd7ku5frBgk4mhx74tDpvdZuYLb2KR0OG+oBYoCI8A7l2wKUg75UEvTsQ4syxYH1yobYoycme9MAAABjQZ9wRREsK/8AmwZkKYSIJhbYSmdxyfip2aDnNboS5EtENFoShKn6YRpBZG7ITBtCf7cAC2wQNilkAIKJFt5IMuomuz3P5j6EXlTSXpHBuiIHfQPd2359J/ITXSlOv6pz0xgQAAAAUwGfj3RCfwABh/OOgsvH9QU81KuSdTERbhiOo0ag6JgCavZgALhoIA1y6GXLRPfuAabvfXqGszfyNkbJzav/hHKySv7dY1mfLBkkWi9oWj7aIGLAAAAAQgGfkWpCfwABiHjOqYvNRqTORZ2SfUTKYgkD2/jRYac+mzNfslSI5Yq4AF6pIbG79B2Rh5OdAEAgP+aICZ0k3JwLuQAAAKZBm5ZJqEFsmUwIb//+p4QAAAMADT8J5IktNHF2c2YAcGq9RWptspFnw8E7iD2yaazXCg3syU4/cOfJAXsa1AN3YN6vY4kkjsI0h4OMHi2kSXhS9iHR0A15O8Jt5ON7AlOqd0I9gIvYSvKDKK4ZjmTwLfJCC5ZStlkQ29SOhHPGeqjHtaJSwFHJl9h18OlzIkAyxWCw8rog88xenMXnto/ESIOuY0SMAAAAiEGftEUVLCv/AJsGZCmEiCYW2Epnccn4qdmg5zW6EuRLRDRaEoSqC1jeMAVvjysPYdIKy6mQ9LwbAZLpURo4r3Ss8JOg/5bgESf5A6x0/i4B8h7Jwh/sl2vLaWCi1ggUizq+Mr+jCRJjZE0y1HOEaNVqdmbrjSs6Xun/qxMpnBtktZoQfzB4NmAAAABhAZ/TdEJ/AAGH846Cy8f1BTzUq5J1MRFxrjQnjVlAA/cGD0jb3FMIlNxrJPoEyQS7FSizJDqJrTQQgFz0nAZr0dqKuxRc+Ka2368KfwhJCVY8OjlNJazp9P0UaYuPlUBdwQAAAEsBn9VqQn8AAYh4zqmLzUakzkWdkn1EymKNcWZOtjwvZkNplt5PbOXTm46kQAdZ7kYDTJ0HzZeD1mYguiPCpKXojvRt6oubb90OFfAAAACsQZvaSahBbJlMCG///qeEAAADAA3MzhCABo3u1m+6Q2ABb4WxL9mJ5aOdmLoUVha2M7TsQ0xW5N8pWC5VYXlQWEU8s2IOe2pvY0scvlFyNWCnabLIn+3ijt0pF3mau3Nj4Ihwg34GCDPhplberIKgpyyb33R/0P1QJqiehdi8Kw01NY6VVBG0D3czfnvpaWHBvyKCVN2KvG9g7OClZIckRw2mp7un/o9vW/Z3wwAAAHRBn/hFFSwr/wCbBmQphIgmFthKZ3HJ+KnZoOc1uhLkS0Q0WhKEqfrenbc8ABc8S1+Kh686JzDfQ0ABV3cT094SDKqEjMzuSQFgLzm0H3eVhkNG2m7U+UaiYpbH2AvImm1hQxUZlHdx9air1Lnldt8xZuoekQAAAF0Bnhd0Qn8AAYfzjoLLx/UFPNSrknUxEXFmNZOhAIoAJwuHSNZxBR/LbNEy9CQyuERefB7mCT/1exlg6AbddjIeqiLpWgnWX1y/cZu+L43D3GuVri8krqanyfEgBhQAAAB3AZ4ZakJ/AAGIeM6pi81GpM5FnZJ9RMpig3IB/5phNwi2gwA3Xld2rNbSa7bNhbL/uL3N+6v1+3V2AzF9IfWsL09JIkZumRNonxOB2DuaBZXZYC8d7Ard12/cLsRk1fqjhWmqUNjdKOrCbFiN1vN9Q6W5vnrQbcEAAADEQZoeSahBbJlMCGf//p4QAAADADX0rhYYZ1SAHMPISteIfgTLWgy6P6w/NFx/zc8Zgbzkovtk7dA4MleyzBpjeyeCbqmJ/LljrppjDCA5bu+cvIKcg4AJJzD6/LoNllWL+Pvhqmcxlib6HxH+2DqC4ywvoiKEcHSbjF+0v7WS9qRb3r7fIh8EabCuhu9fGvIfuTNKxom9szQxa3gPXjm47WC6sjYodvFCgEDaTpAXrKgchToCAxfehCtEgAUaeLSg0Wd8IAAAAIhBnjxFFSwr/wCbBmQphIgmFthKZ3HJ+KnZoOc1uhLkS0Q0WhKEqfs52qyAEYFU2xgEqzJWCA2PVVr+zCkUgqxb8A1pMA2t/sNvmxm/uvi3a7Q34NGY8bIgJW4bFDL9myUEMEvLzWRDk49KKZmiFcNN2fHVFw6bnGQ6r48IxK95mSm0OImNoAPbAAAATQGeW3RCfwABh/OOgsvH9QU81KuSdTERbmvSo3wAQiQaSxzC95CnVcRswVumcpVqbrY4Shujh1wKxq9bgkJgknqMc7KBZ8MJNjb9+QFtAAAAWAGeXWpCfwABiHjOqYvNRqTORZ2SfUTKYh16awBrpuOjQ7b5fT/DXSMiroyRhY5IhiOqHcbqgJ4Wki1mzTmmugeRvZH83Sn2tFGH5h+/ssyMvFaXUXHgBzQAAACKQZpfSahBbJlMCG///qeEAAADAAzeHY8xAGsxLO5wiphPxf/HoCGGjEHaFFyoyHAD+V+i32NgA7trRT3wlI4s3UKorVBvNuA+Bp8KjOELkPM8/1LhOcMedackEe166xuzjooWmB39qSf4HgBtrxaiFpphR7FuWpcKEri/vFF8hzyFd0PyQx/gIOmAAAABAkGaY0nhClJlMCG//qeEAAADAB/de/BZ0oAFBuQloSKD8ftX2WpBA/4hba8QZV7wPbmNQd31Mo/1k1Q3ZBOvSNrfbjVtvxSKQuFidvwN3/nHkJ8IbZhbcDCLdVJ8X8ZGFwvPWgCxQOuyhK1zaUDQvDEiBaGLoWvWsXrNFJkluVi7ZRWMhqwIiARW9b1oC46/mAlq8RlwwPyQJgeLz04mBbwPZQtHWukg8JupWbByeRtJz5tjRiwDcbNAZxkk5j0gQJzmNLxwfUReVSERr2Dp4J1t3k8rmpgC+N6v2ZIPkz7MO75+AB3uueCMj1vPLDr5LaC2GVxhuJkL+6BZu/dXLgblJQAAAHBBnoFFNEwr/wCa+sS2MmPjFQO7e9wJvkE7IOkk/Z00gVbClU+8Lq+RXX87kxFwnUkkkIXiDX7bQ1SQh8LFMfbC6AA5wmcbAJoQnB4428ij7Wfl2bwMWefIm1Kbz2vKtawFs4JqYEIrFBXBF+/omcJuAAAAQQGeoHRCfwABh/OOgsvH9QU81KuSdTERbc1KrEBmlaU12IADrMMO8H+zVPsNkqBvf3V95IZgU9E1XwkU0C/DgB/hAAAARgGeompCfwABiHjOqYvNRqTORZ2SfUTKYoJrYspqmPrGfnHr3pQOAA7QrILoUgSJMMu93MM9RjbdNGHvndaJ54qez8fmGpAAAAC/QZqkSahBaJlMCG///qeEAAADAB/eE80Vl7bKl/UAQjJioHustLtQmDmLus2bd1TOQ+drRpoM6HcxCO3IqJhfMB+pxOQtYGOR3Q29L/pJ3eI/7YDzqROg99w42BJqJ9hYCSOC8jT9fsfcnXmMxm75gLcfXmngmfg8IyJwUdcjXDRSPLG97offTum+c+X8YJQ4MVGic7PZNcWPtc7Pv6RBSlJ/v1cJROQ/pdlH/V2ATmSyuRcgENobif4tK0eb8jEAAAC3QZrISeEKUmUwIb/+p4QAAAMAIN8jYEBB16AQjs+UjD8iNeA+zpEBluJvhbebKffas/J4QIik9UA+uwoMvfvfCX66ngadGJwnsWcjepgASw8EWpkv0jrmPsbYO5tpZx8ZCsgT0rZDZmya6ZMlO5k6TqnA+dGWbeLWuzOVB2Py1iw/jRWRM2cA4PiJmDPH7F8iNvW7OWqy3K/F3z1G2EYj11We7oXw0DNDeLAkg/nficTgVcur63KTAAAAcEGe5kU0TCv/AJr6xLYyY+MVA7t73Am+QTsg6ST9nTSBVsKVT7wur5YDN/3MAAiDuLLy5mv6wGGfemkjMEIR6cHfa9mE8gbE8OrZBNQ5XBjcFOZQRj/72bt/PsP9KPZXzdf+vrH9aw3hr1h+fyyAlYEAAABXAZ8FdEJ/AAGH846Cy8f1BTzUq5J1MRFxgZ1qiemhETAnKkmYACVGTbyKxIGVWqL/DFdMEA8P8Khx1oNybtmFlVKx6cx+8U0Qj7ouUL9OP5DCz132FqGzAAAAUwGfB2pCfwABiHjOqYvNRqTORZ2SfUTKYoG4/04gCpa1PcGT8jR1cY7QLW5099ucPqHXSvwnBOYzEfZk21YvRtn/pQYAqb1DSdyAYzIMF9vuZyDgAAAAmEGbDEmoQWiZTAhv//6nhAAAAwAh3IPgm6UADYyM5TmolsFFrAZsHSYlsqaWbBW1zqd407dVA09Zz7kFPRiMWz8YoIagNlHQqu4p9Bn69gXLDzO6x5F7lvA1juWAvQazl909lxu+DcKmgFpiPelNk3juGKptyCOtEgV6C4tQTEbVAwbg6NU0HaKvFzfB/qL684elj53YIs0IAAAAcUGfKkURLCv/AJsGZCmEiCYW2Epnccn4qdmg5zW6EuRLRDRaEoSqC151bXOOj3rFSf1JQAWYikA71wHEofqh8TX3fe6J2+9tKJTgb1cBtqIAJ6bDg065bz+GWTPnVOv4XCvHHUHmmEsyHtwJlj77gKmBAAAANwGfSXRCfwABh/OOgsvH9QU81KuSdTERca4u8QYALqNCWwurgsjrOBbAWinZnRQmiyTZJ8ogJeAAAABfAZ9LakJ/AAGIeM6pi81GpM5FnZJ9RMpijUswsbmoAJnbQG+20avkLqQD08+wkW0sZNTvm3qAtnppmMDU0/FdkNbWaY2mF6C5D7K4Zg1cxoWuMY3U3awgPOauJadAMWAAAACwQZtQSahBbJlMCG///qeEAAADACGkaf9dDnLIswdnuzUAKCOlMaI9UvSvqobxhSbRNwqR63Ye7YKGmtYec6F6Cxj3Wmu7hqKdW6o7w7eBnssR36qLnN4BsYMgE0F9WXO/X1wCJ/4daUWVI8J7ZzblA/F6FQvjYtdPyut41AUPIvmA8s0+pxddgDdA8CUyCV5g8N644EurVMHuvcCUstDHGzj4pSLbGPVxVsr+wL6eYJkAAABwQZ9uRRUsK/8AmwZkKYSIJhbYSmdxyfip2aDnNboS5EtENFoShKoLPB3dITKG/sS9zO9ogA/P7ZSKW5seCVajj09ZZ3qjn0ubWZYY1f+1BodvQfC18o0micOxmRy48D/1kawOFnWZPUW7KBhWQAwDAwAAACwBn410Qn8AAYfzjoLLx/UFPNSrknUxEXGm0nHVtrAfEu1bZ+fn+S0I28MCkwAAAFUBn49qQn8AAYh4zqmLzUakzkWdkn1EymKMimbxMifhAA6BQPIBW8LLA4VW1Zgr5a2uFsW+2dwPct6HLqowtYIFtOPV2griEaCNRLUiLpYXnbiKRmWUAAABOkGblEmoQWyZTAhv//6nhAAAAwAh3yNW8ElTrprwAOAEx7ykeN7hYKQtHgIu6l/yQZyqErzmVU6j9rDET7tMILNWZ7Cz2VdJVh4mHjR0dZQKeIRLFt5iHLzIgMiBF9jGpWH/0HpRZJjX+A1s7sBXK6I+3z0WSDPP5nBBfQiPIyth08VMgXsVijU5NyG7QroY9oBN5iXjEcs121yMcw1RZ+5ZgiIM6o70a7EOCpdYvY0JgTBEmZMsgtfa+0fxE0HaryxRFKYZbIwhdhCUb/Ejp9YNqoy79Y1m8aRA6CaL2vkAHgBg5RV6xq/n5ySp1BWxidZ/8NHYc1GmdwEi4ZYNl3cDhem2WgzypV5IGDNmU/dLLWCb7+3KqmmshBVc7h3GYD1xaq3tIk5x3+jBAQEkPcSOPdvUcAiEBtSAAAAAikGfskUVLCv/AJsGZCmEiCYW2Epnccn4qdmg5zW6EuRLRDRaEoSqC1WcCZYieQgA78rCRvxd1ztLpfRKKNoC0TX20MnXC1vv+nxMPbDvjmSDiu3rJ0ugGrdYi4GU0WlVjw5hv/3xfKDDYND1cC7bryPA2xJVMsJQxA3nOx2nQvaZpoB4pbYHmGkZ8QAAAFQBn9F0Qn8AAYfzjoLLx/UFPNSrknUxEXGm06p7As9sU/IWlKze4GTnZ6ACduIlBdetJnI4ZAtGi8IpKhfUruogtJp7+OCJ+KSbEVQYBZ7sSPtuAxYAAABjAZ/TakJ/AAGIeM6pi81GpM5FnZJ9RMpiD39Qp+o9cALAiZmZcdjeLezfnQj9N63ySeIQf+/USD93yKcLvWm/ywJiDppM+ThVqMRIyFroU6wXhL5dDlsD5OMUcC75uL1vOAHdAAAAUUGb2EmoQWyZTAhv//6nhAAAAwAOjr3p3TfNAAJ1rPrh340xnrbrnufLg/4oO9OZ8RDtQHgmySf7Q0fFkfyj7KjNVennuwIQf5BJ6DF9WPa/IQAAAFRBn/ZFFSwr/wCbBmQphIgmFthKZ3HJ+KnZoOc1uhLkS0Q0WhKEqfsz8+c8ABO3nBmAjtQ7fsoOcxZOXino3uHrPUonvnLlP5OdUCJEnkDybFuUCggAAABaAZ4VdEJ/AAGH846Cy8f1BTzUq5J1MRFuS+HBwgA2vuO7aIut26ssxzo9fTriLXt3sS/Pl4+hmO2MAKZVshtI1HE26X+ecDxotAXmADwnvpJ/78YFcpPlwEHBAAAAOgGeF2pCfwABiHjOqYvNRqTORZ2SfUTKYhgtcKAANqAojFzIHEVhvo3x5f0L/Tei4PcQanphPtkA6YEAAAA8QZoZSahBbJlMCE///fEAAAMAAi3EGeTRzEgC/E4OXJzMfwgVph1rMLGdXviHpqN/D9NfzOS/Eo+yEKU0AAAI92WIggAEP/73gb8yy2Q/qslx+ed9LKzPPOQ8cl2JrrjQAAADAAADAAFHh7Xrjd2DW0nQAAAawAOkH8F5GDHQI+PkcI6BwESLwC3FfYLCqGZgB+CbNXEGzECiL1mdIvGyXfMjNebxlxwPtve4FGItC6hPuaIvql5I3glLxeebpL5IdlGPovemllgap+TTnnBJpOTDu2XwlT79Qd9eSp2rY/ro26cYYUG3RJBTLPxh3HIR8RYKx4wfzYLnuizT77RV7imjVzlrPldWoyWTqsAOSjXyNGE5bGLdsqwcOnOMxEvyKfKli5PrHdaWJvARTK/KNVR5BzwcobTIG5G6ygdvo+Bn2/OzGga6JrqZnQtDz3gvYXqTYHraFfjp3wvDKRuZ//WbyhUzdmr+NyjNE36s4lyjczmcQHb1j1jFY/5qa8l1reG9A5qT00FBldM1XvdS9w+zdPwwAIST78Mvu6f9ydK1iwfTxiT7yCl/ySzO3J7j91j7bhPkmFlvf7FpZZUuX0lCeuutodZNF6jg+x2cwRO/Qw+ntYb4tQgM54sG+fIf92sNeoAhPIuDScP/pGFgGm//60RRZzmF1UsO9t+kDmUEH7NgCWwIOACNVx1eCpH3dM8M6nPNEd7nFDo78WEJPaq3jf0MbKy+gh4HM+K24xQ10oDsbddZ10M+9gOgqGmNlUFpQ71JkG8EVD6Wuo10wy4RrfUMPhiELbp7zNRz2Dt7xddjBhsX9JJu7dmR3g7PS3z0Ic1Xy49ZgIo1772xpkrhYiHZNTxHeW7G1ivfSioCl2doYTCqR2S2L4nJmCHYP3vZztLqKutWqVYQd0CYwNFb3i3c8CVSJ0ThCtJSFr8+LJSpTYWOXBne2fxkkdvLwwSf4dgFG6DEURe/XSUOZSzUm/r/Qoj1mhXzFwdvgnTgxWJYUqL5cXU6vFQ4pg7X5j7YI/JGTuV/d/sAKAKB4PKfnB6B5ke6Mgc6zufdUNAExJL9BbzI/v0+63MStkSA4T9vnnHNrz6sMtgirDN/RXjD56slQUguBCHQj+YOR/nO5+D/UIwD5bkBIido1cOAjGwwDWzy9R5ScJ01sOwv0mqItoy/NB+vKbEntpVNRW7htkWEvk8u5Xd5naZW6V6H0w19K7w/SAHVXboAmbbACx55F3hemLvu9jwdFoEY3bWcWDgZZ+Ppp2GnlRS1BX2Lv8Mk/JSiUYzCVvw3uFgmXDTtURQHhWmLZdyABi/E8KxycNg9kG92qjuK9YqAKb2Qs29koiU/0v5/36QW8kdOERsRYn3mbhE8XLZGq516rpBtyuMgKT84aGTlE/Y4XgwvnXFv6VcNHWZuQKpgE8rxpJV3VlimnHMDZL4kAVMSXZl3EZSaYVgbWB6hSB//aHxXKczfgZvLoL3IsSUtzFmj1EIW8i54VAOuLJ2zurP6Kj/csQXabw/tKmiqcLXup5I5JGsmJUlIbPwTiB3GvCoBOCj4+/p15x6P1bStwD8rg5ty0TS6Gqf10uRny0xidFOUy0v0zru0PhgcaklZVy1q/J1LnI/+agZ4NSdPGvd21wvVJ+mUJ4Rk/KB/KZ6N0JMyrR+4yIg1s8Fdaf0JUpGpvFme3oqU2K9Xl5UyLcNJaH57JQ07dEhRaYObvN8DbX+9RTetsyWnBvuXLY8hhwPi0Eu85whw5cM89I9B00kVhtYApFfiWFbVEG7toe41XBMA3j1OYPkd8AOQWT/c4ranXR+z7QCe4RdcKjiL/flUr7NRrhpno8r+E6/PqzMT3+zVP5XYf5WPq5l+wB8b72AceKP/+c/nkmvyfaKPFta0+N3X7S73N0U8QyOY+vo3l0XgWmNvBmsWplM41WSbSvCkd07UGG8U4Y0aNv4HpAVU+XZaEzOvpCgU9M61HDDNf0SJsgwEsJvhCtSjfHT0Io9zxwonoduDgapcEY9pSw/yiAgN5DPxDh2B5eZ+kSCqe8ZwnXuzwKwidz3XwLDS/TtTv2DO/lYY7gq9BpePfsChXxBRTr9zasUPkLvwEUUf3zk3mNqCU54NxEjP/wS4lL4smd3aU2FbH1qJpMNPmvn5cbssLLJqCNixHoUuQymL07LFkZQ1DhcyMgIxfM2RkexApyxuWuHlVBMiBm3g2D6wkpdPi1cxt2+6h9x7fecY0VuEek4/NuSJOy6GSWcUBP6U/jrFNhsTzN6Ki5H5fyChlU97XB3c3xgYbt2UsaGV1v0JvOBwl365xXKag6OOIaORNecja7oeMmax5crxMdcCI7pcd2KrFVXFtKC4x8TdAUMeVdFA3vjsvzHw6p5m5M7qhB3fR1sGOIGQ9ZbrvxTShwxJtRFztvtEe3nP4UGgt5y98hoXZAj3kuEm6wrzXzaceKFPuOxbGu4FCrg4aoTvwF+FcQ8otk0///oT9eBbwM1JX8lDYGTK16m4XOp91MWqm6x5uvTYa6kL964VXDqnpTPudcEa3t5+/crueUNgKfcTl7L4y5ykFN6isCyRnfCiECiLftgDgRhfT3yQgCLSX4Gx+m7XxEtmUI6wg2jZ2FoFwZ2PruWSohIXf6/JYziOk0d/cayV+kV+HFm+aqCF5ArJcozrptJLJ5Ro5to5e2PR6VVNrvztI2HpUmVbkqi6gxUWjQp+pL0mx3CRlg85VZTtWO1Byb01qkcQ4gmV6TYYMdV2sN/5LNEx1Vvod3GTZM2m9SVGxcPskH0FONVZe8GIC9Nn3Jii4d/hT2OVMH+qqjC6hFIcOBPfizuisMfg3E4Ny5dTk0+Zj7VeS8rleLtyOBcAIq6ITX2yOIz1HexN6vOfuRAoBVPsuTxnhdkPr3TZF2vsCXUa4U/RbPYwKJHPfAdofNyWMpsL2qGyLomZQ2GGdRGiTaGBfb//SPwwwjHMYJDG9Gu0LGD1DwcyVLjV3EdyNSs7WXJqkVuCBM7c+E1xVj0hw6uGyl/gemE0S9U57YX8usQmBNujk0R9XV7mm+j1dRtZe8FvN3wzBkpIImDSSDKbiwUdljSHwlNrHYdkuyZi0YyMlnJ20liDezr8Vus1T0aFd70c1ivaXwAAAwAAAwAMCQAAAExBmiRsQ3/+p4QAAAMAJLEnI+8BlKoFzawAOlLq5AEAVbtfe+FmiARAtvTiZz5I+hUt0rSXTWcu+hh+rcd2eTT7n1jZMCHFTBYllE2VAAAAH0GeQniFfwAAAwAaYf8RjrUH54g3e6qlmfysX6dg5bUAAAAcAZ5hdEJ/AAADACGtJ52OFwxmKc6kEkClK1r5gQAAABYBnmNqQn8AAAMAAP48ldMxmePJoT7AAAAAGEGaaEmoQWiZTAhv//6nhAAAAwAAAwDUgAAAABxBnoZFESwr/wAAAwAJMGZHMJKZGrCLS6Rh8AtpAAAAFgGepXRCfwAAAwAA/e0VoFdAt4TTdYAAAAAWAZ6nakJ/AAADAAD+PJXTMZnjyaE+wQAAABhBmqxJqEFsmUwIb//+p4QAAAMAAAMA1IAAAAAcQZ7KRRUsK/8AAAMACTBmRzCSmRqwi0ukYfALaQAAABYBnul0Qn8AAAMAAP3tFaBXQLeE03WBAAAAFgGe62pCfwAAAwAA/jyV0zGZ48mhPsEAAAAXQZrwSahBbJlMCGf//p4QAAADAAADAz8AAAAcQZ8ORRUsK/8AAAMACTBmRzCSmRqwi0ukYfALaAAAABYBny10Qn8AAAMAAP3tFaBXQLeE03WAAAAAFgGfL2pCfwAAAwAA/jyV0zGZ48mhPsEAAAAXQZs0SahBbJlMCE///fEAAAMAAAMAHpAAAAAcQZ9SRRUsK/8AAAMACTBmRzCSmRqwi0ukYfALaAAAABYBn3F0Qn8AAAMAAP3tFaBXQLeE03WBAAAAFgGfc2pCfwAAAwAA/jyV0zGZ48mhPsEAAA+qbW9vdgAAAGxtdmhkAAAAAAAAAAAAAAAAAAAD6AAAI0oAAQAAAQAAAAAAAAAAAAAAAAEAAAAAAAAAAAAAAAAAAAABAAAAAAAAAAAAAAAAAABAAAAAAAAAAAAAAAAAAAAAAAAAAAAAAAAAAAAAAAAAAgAADtR0cmFrAAAAXHRraGQAAAADAAAAAAAAAAAAAAABAAAAAAAAI0oAAAAAAAAAAAAAAAAAAAAAAAEAAAAAAAAAAAAAAAAAAAABAAAAAAAAAAAAAAAAAABAAAAAAmAAAAGQAAAAAAAkZWR0cwAAABxlbHN0AAAAAAAAAAEAACNKAAAEAAABAAAAAA5MbWRpYQAAACBtZGhkAAAAAAAAAAAAAAAAAAA8AAACHgBVxAAAAAAALWhkbHIAAAAAAAAAAHZpZGUAAAAAAAAAAAAAAABWaWRlb0hhbmRsZXIAAAAN921pbmYAAAAUdm1oZAAAAAEAAAAAAAAAAAAAACRkaW5mAAAAHGRyZWYAAAAAAAAAAQAAAAx1cmwgAAAAAQAADbdzdGJsAAAAl3N0c2QAAAAAAAAAAQAAAIdhdmMxAAAAAAAAAAEAAAAAAAAAAAAAAAAAAAAAAmABkABIAAAASAAAAAAAAAABAAAAAAAAAAAAAAAAAAAAAAAAAAAAAAAAAAAAAAAAAAAAGP//AAAAMWF2Y0MBZAAe/+EAGGdkAB6s2UCYM6EAAAMAAQAAAwA8DxYtlgEABmjr48siwAAAABhzdHRzAAAAAAAAAAEAAAEPAAACAAAAABhzdHNzAAAAAAAAAAIAAAABAAAA+wAACGhjdHRzAAAAAAAAAQsAAAABAAAEAAAAAAEAAAoAAAAAAQAABAAAAAABAAAAAAAAAAEAAAIAAAAAAQAABgAAAAABAAACAAAAAAEAAAgAAAAAAgAAAgAAAAABAAAKAAAAAAEAAAQAAAAAAQAAAAAAAAABAAACAAAAAAEAAAoAAAAAAQAABAAAAAABAAAAAAAAAAEAAAIAAAAAAQAACgAAAAABAAAEAAAAAAEAAAAAAAAAAQAAAgAAAAABAAAKAAAAAAEAAAQAAAAAAQAAAAAAAAABAAACAAAAAAEAAAoAAAAAAQAABAAAAAABAAAAAAAAAAEAAAIAAAAAAQAABgAAAAABAAACAAAAAAEAAAoAAAAAAQAABAAAAAABAAAAAAAAAAEAAAIAAAAAAQAACgAAAAABAAAEAAAAAAEAAAAAAAAAAQAAAgAAAAABAAAKAAAAAAEAAAQAAAAAAQAAAAAAAAABAAACAAAAAAEAAAoAAAAAAQAABAAAAAABAAAAAAAAAAEAAAIAAAAAAQAACgAAAAABAAAEAAAAAAEAAAAAAAAAAQAAAgAAAAABAAAKAAAAAAEAAAQAAAAAAQAAAAAAAAABAAACAAAAAAEAAAoAAAAAAQAABAAAAAABAAAAAAAAAAEAAAIAAAAAAQAACgAAAAABAAAEAAAAAAEAAAAAAAAAAQAAAgAAAAABAAAIAAAAAAIAAAIAAAAAAQAACgAAAAABAAAEAAAAAAEAAAAAAAAAAQAAAgAAAAABAAAKAAAAAAEAAAQAAAAAAQAAAAAAAAABAAACAAAAAAEAAAoAAAAAAQAABAAAAAABAAAAAAAAAAEAAAIAAAAAAQAACgAAAAABAAAEAAAAAAEAAAAAAAAAAQAAAgAAAAABAAAKAAAAAAEAAAQAAAAAAQAAAAAAAAABAAACAAAAAAEAAAoAAAAAAQAABAAAAAABAAAAAAAAAAEAAAIAAAAAAQAACgAAAAABAAAEAAAAAAEAAAAAAAAAAQAAAgAAAAABAAAKAAAAAAEAAAQAAAAAAQAAAAAAAAABAAACAAAAAAEAAAgAAAAAAgAAAgAAAAABAAAKAAAAAAEAAAQAAAAAAQAAAAAAAAABAAACAAAAAAEAAAoAAAAAAQAABAAAAAABAAAAAAAAAAEAAAIAAAAAAQAACgAAAAABAAAEAAAAAAEAAAAAAAAAAQAAAgAAAAABAAAKAAAAAAEAAAQAAAAAAQAAAAAAAAABAAACAAAAAAEAAAoAAAAAAQAABAAAAAABAAAAAAAAAAEAAAIAAAAAAQAACgAAAAABAAAEAAAAAAEAAAAAAAAAAQAAAgAAAAABAAAKAAAAAAEAAAQAAAAAAQAAAAAAAAABAAACAAAAAAEAAAoAAAAAAQAABAAAAAABAAAAAAAAAAEAAAIAAAAAAQAACgAAAAABAAAEAAAAAAEAAAAAAAAAAQAAAgAAAAABAAAKAAAAAAEAAAQAAAAAAQAAAAAAAAABAAACAAAAAAEAAAoAAAAAAQAABAAAAAABAAAAAAAAAAEAAAIAAAAAAQAACgAAAAABAAAEAAAAAAEAAAAAAAAAAQAAAgAAAAABAAAKAAAAAAEAAAQAAAAAAQAAAAAAAAABAAACAAAAAAEAAAoAAAAAAQAABAAAAAABAAAAAAAAAAEAAAIAAAAAAQAACgAAAAABAAAEAAAAAAEAAAAAAAAAAQAAAgAAAAABAAAKAAAAAAEAAAQAAAAAAQAAAAAAAAABAAACAAAAAAEAAAoAAAAAAQAABAAAAAABAAAAAAAAAAEAAAIAAAAAAQAACgAAAAABAAAEAAAAAAEAAAAAAAAAAQAAAgAAAAABAAAKAAAAAAEAAAQAAAAAAQAAAAAAAAABAAACAAAAAAEAAAoAAAAAAQAABAAAAAABAAAAAAAAAAEAAAIAAAAAAQAACgAAAAABAAAEAAAAAAEAAAAAAAAAAQAAAgAAAAABAAAKAAAAAAEAAAQAAAAAAQAAAAAAAAABAAACAAAAAAEAAAoAAAAAAQAABAAAAAABAAAAAAAAAAEAAAIAAAAAAQAACgAAAAABAAAEAAAAAAEAAAAAAAAAAQAAAgAAAAABAAAKAAAAAAEAAAQAAAAAAQAAAAAAAAABAAACAAAAAAEAAAQAAAAAAQAACgAAAAABAAAEAAAAAAEAAAAAAAAAAQAAAgAAAAABAAAKAAAAAAEAAAQAAAAAAQAAAAAAAAABAAACAAAAAAEAAAoAAAAAAQAABAAAAAABAAAAAAAAAAEAAAIAAAAAAQAACgAAAAABAAAEAAAAAAEAAAAAAAAAAQAAAgAAAAABAAAKAAAAAAEAAAQAAAAAAQAAAAAAAAABAAACAAAAAAEAAAQAAAAAAQAACgAAAAABAAAEAAAAAAEAAAAAAAAAAQAAAgAAAAABAAAEAAAAAAEAAAoAAAAAAQAABAAAAAABAAAAAAAAAAEAAAIAAAAAAQAACgAAAAABAAAEAAAAAAEAAAAAAAAAAQAAAgAAAAABAAAKAAAAAAEAAAQAAAAAAQAAAAAAAAABAAACAAAAAAEAAAoAAAAAAQAABAAAAAABAAAAAAAAAAEAAAIAAAAAAQAACgAAAAABAAAEAAAAAAEAAAAAAAAAAQAAAgAAAAACAAAEAAAAAAEAAAoAAAAAAQAABAAAAAABAAAAAAAAAAEAAAIAAAAAAQAACgAAAAABAAAEAAAAAAEAAAAAAAAAAQAAAgAAAAABAAAKAAAAAAEAAAQAAAAAAQAAAAAAAAABAAACAAAAAAEAAAoAAAAAAQAABAAAAAABAAAAAAAAAAEAAAIAAAAAAQAACgAAAAABAAAEAAAAAAEAAAAAAAAAAQAAAgAAAAAcc3RzYwAAAAAAAAABAAAAAQAAAQ8AAAABAAAEUHN0c3oAAAAAAAAAAAAAAQ8AAApPAAABoAAAAHcAAABEAAAAUAAAAQYAAABSAAABRQAAAI4AAACGAAABgQAAAMoAAAClAAAArQAAASYAAADJAAAAtQAAAK0AAAD7AAAAywAAAL8AAACoAAABKAAAAJ8AAAB+AAAAlgAAAVgAAADQAAAAsQAAAM0AAAEWAAAAwgAAARYAAADGAAAA2QAAAPEAAAEmAAAAxgAAAOsAAAC4AAABfQAAAP4AAADeAAAA4wAAAWIAAAEWAAAAsAAAALkAAAEjAAAA4AAAAMsAAADhAAABBAAAAOgAAADMAAAAhgAAAQoAAADNAAAAewAAAMEAAAEpAAAAugAAAM4AAAC+AAABCwAAAM8AAACpAAABNAAAANMAAADkAAAAuAAAAS0AAADrAAAAwwAAAKwAAAFJAAAA+AAAAOEAAACWAAABLgAAAOkAAADXAAAAvwAAAUwAAACqAAAAhAAAALQAAAEcAAAA3wAAAN4AAADOAAABVQAAAO0AAAClAAABAgAAARQAAADDAAABBQAAALAAAAD6AAAA7AAAANoAAAERAAAA8wAAAJkAAAC3AAAA0wAAAL4AAACSAAAAngAAAU4AAADUAAAAewAAAKsAAAE0AAAAzgAAAKQAAADRAAABSgAAAN4AAACwAAAAnQAAARcAAADJAAAAqAAAAIkAAADWAAAA3AAAAJIAAABgAAAArAAAAKwAAAB1AAAAiQAAAQAAAACnAAAAeQAAAJgAAADWAAAAowAAAHAAAAChAAAAvwAAALoAAACbAAAApAAAAPgAAACVAAAAYAAAAG8AAADeAAAArAAAAG8AAACiAAABFwAAAKMAAAB6AAAAswAAAQQAAACsAAAAagAAAHwAAADXAAAAlQAAAJMAAABuAAAA+AAAAIcAAABrAAAAWwAAARAAAACZAAAAcwAAAHMAAAD3AAAAhgAAAGwAAABfAAAAywAAAGsAAABIAAAAVAAAALUAAABpAAAAVgAAAFUAAADIAAAAawAAAGwAAABzAAAAbgAAAHQAAABcAAAAgwAAAFkAAABzAAAAYAAAAFcAAABcAAAAawAAAGgAAABPAAAAfAAAAHsAAABcAAAASgAAADwAAACQAAAAZwAAAFcAAABGAAAAqgAAAIwAAABlAAAATwAAALAAAAB4AAAAYQAAAHsAAADIAAAAjAAAAFEAAABcAAAAjgAAAQYAAAB0AAAARQAAAEoAAADDAAAAuwAAAHQAAABbAAAAVwAAAJwAAAB1AAAAOwAAAGMAAAC0AAAAdAAAADAAAABZAAABPgAAAI4AAABYAAAAZwAAAFUAAABYAAAAXgAAAD4AAABAAAAI+wAAAFAAAAAjAAAAIAAAABoAAAAcAAAAIAAAABoAAAAaAAAAHAAAACAAAAAaAAAAGgAAABsAAAAgAAAAGgAAABoAAAAbAAAAIAAAABoAAAAaAAAAFHN0Y28AAAAAAAAAAQAAADAAAABidWR0YQAAAFptZXRhAAAAAAAAACFoZGxyAAAAAAAAAABtZGlyYXBwbAAAAAAAAAAAAAAAAC1pbHN0AAAAJal0b28AAAAdZGF0YQAAAAEAAAAATGF2ZjU4LjI5LjEwMA==\" type=\"video/mp4\" />\n",
              "             </video>"
            ]
          },
          "metadata": {}
        }
      ]
    }
  ]
}